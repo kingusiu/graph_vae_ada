{
 "cells": [
  {
   "cell_type": "code",
   "execution_count": 1,
   "metadata": {},
   "outputs": [],
   "source": [
    "import tensorflow as tf\n",
    "import networkx as nx\n",
    "import numpy as np\n",
    "\n",
    "import data.input_samples as inpu\n",
    "import models.graph_nn as grap\n",
    "import util.plotting as plut\n",
    "import data.input_samples as inpu\n",
    "\n",
    "%load_ext autoreload\n",
    "\n",
    "%autoreload 2"
   ]
  },
  {
   "cell_type": "code",
   "execution_count": 2,
   "metadata": {},
   "outputs": [],
   "source": [
    "X, A_tilde, A, train_mask, valid_mask = inpu.make_karate_data_autoencoder()\n",
    "nodes_n = len(X)"
   ]
  },
  {
   "cell_type": "code",
   "execution_count": 3,
   "metadata": {},
   "outputs": [
    {
     "data": {
      "text/plain": [
       "array([[ True,  True, False, ..., False, False, False],\n",
       "       [False, False,  True, ..., False, False,  True],\n",
       "       [False, False,  True, ...,  True,  True,  True],\n",
       "       ...,\n",
       "       [ True, False,  True, ...,  True,  True,  True],\n",
       "       [ True, False, False, ..., False,  True, False],\n",
       "       [ True,  True, False, ..., False,  True,  True]])"
      ]
     },
     "execution_count": 3,
     "metadata": {},
     "output_type": "execute_result"
    }
   ],
   "source": [
    "train_mask"
   ]
  },
  {
   "cell_type": "code",
   "execution_count": 10,
   "metadata": {},
   "outputs": [
    {
     "name": "stdout",
     "output_type": "stream",
     "text": [
      "Model: \"functional_3\"\n",
      "__________________________________________________________________________________________________\n",
      "Layer (type)                    Output Shape         Param #     Connected to                     \n",
      "==================================================================================================\n",
      "encoder_input_features (InputLa [(None, 34, 34)]     0                                            \n",
      "__________________________________________________________________________________________________\n",
      "encoder_input_adjacency (InputL [(None, 34, 34)]     0                                            \n",
      "__________________________________________________________________________________________________\n",
      "graph_convolution_3 (GraphConvo (None, 34, 4)        136         encoder_input_features[0][0]     \n",
      "                                                                 encoder_input_adjacency[0][0]    \n",
      "__________________________________________________________________________________________________\n",
      "graph_convolution_4 (GraphConvo (None, 34, 4)        16          graph_convolution_3[0][0]        \n",
      "                                                                 encoder_input_adjacency[0][0]    \n",
      "__________________________________________________________________________________________________\n",
      "graph_convolution_5 (GraphConvo (None, 34, 2)        8           graph_convolution_4[0][0]        \n",
      "                                                                 encoder_input_adjacency[0][0]    \n",
      "==================================================================================================\n",
      "Total params: 160\n",
      "Trainable params: 160\n",
      "Non-trainable params: 0\n",
      "__________________________________________________________________________________________________\n"
     ]
    }
   ],
   "source": [
    "gnn = grap.GraphAutoencoderKarate(nodes_n=nodes_n, feat_sz=nodes_n, activation=tf.nn.tanh)"
   ]
  },
  {
   "cell_type": "code",
   "execution_count": 11,
   "metadata": {},
   "outputs": [
    {
     "name": "stdout",
     "output_type": "stream",
     "text": [
      "WARNING:tensorflow:Layer graph_autoencoder_karate_1 is casting an input tensor from dtype float64 to the layer's dtype of float32, which is new behavior in TensorFlow 2.  The layer has dtype float32 because its dtype defaults to floatx.\n",
      "\n",
      "If you intended to run this layer in float32, you can safely ignore this warning. If in doubt, this warning is likely only an issue if you are porting a TensorFlow 1.X model to TensorFlow 2.\n",
      "\n",
      "To change all layers to have dtype float64 by default, call `tf.keras.backend.set_floatx('float64')`. To change just this layer, pass dtype='float64' to the layer constructor. If you are the author of this layer, you can disable autocasting by passing autocast=False to the base Layer constructor.\n",
      "\n"
     ]
    }
   ],
   "source": [
    "z, A_pred = gnn((X, A_tilde))"
   ]
  },
  {
   "cell_type": "code",
   "execution_count": 12,
   "metadata": {},
   "outputs": [
    {
     "data": {
      "text/plain": [
       "<tf.Tensor: shape=(34, 34), dtype=float32, numpy=\n",
       "array([[0.51190925, 0.504779  , 0.5049792 , ..., 0.49845704, 0.502992  ,\n",
       "        0.50387293],\n",
       "       [0.504779  , 0.50194365, 0.5020104 , ..., 0.49935934, 0.5012125 ,\n",
       "        0.50158477],\n",
       "       [0.5049792 , 0.5020104 , 0.50208753, ..., 0.49934462, 0.5012565 ,\n",
       "        0.5016339 ],\n",
       "       ...,\n",
       "       [0.49845704, 0.49935934, 0.49934462, ..., 0.5002177 , 0.49960253,\n",
       "        0.49947286],\n",
       "       [0.502992  , 0.5012125 , 0.5012565 , ..., 0.49960253, 0.5007571 ,\n",
       "        0.500987  ],\n",
       "       [0.50387293, 0.50158477, 0.5016339 , ..., 0.49947286, 0.500987  ,\n",
       "        0.5012956 ]], dtype=float32)>"
      ]
     },
     "execution_count": 12,
     "metadata": {},
     "output_type": "execute_result"
    }
   ],
   "source": [
    "# predicted adjacencies from untrained model\n",
    "tf.nn.sigmoid(A_pred)"
   ]
  },
  {
   "cell_type": "code",
   "execution_count": 13,
   "metadata": {},
   "outputs": [],
   "source": [
    "gnn.compile(optimizer=tf.keras.optimizers.Adam(learning_rate=0.01), run_eagerly=True)"
   ]
  },
  {
   "cell_type": "code",
   "execution_count": 14,
   "metadata": {},
   "outputs": [
    {
     "name": "stdout",
     "output_type": "stream",
     "text": [
      "Epoch 1/100\n",
      "1/1 [==============================] - 0s 65ms/step - val_loss: 0.6929\n",
      "Epoch 2/100\n",
      "1/1 [==============================] - 0s 25ms/step - val_loss: 0.6925\n",
      "Epoch 3/100\n",
      "1/1 [==============================] - 0s 30ms/step - val_loss: 0.6922\n",
      "Epoch 4/100\n",
      "1/1 [==============================] - 0s 27ms/step - val_loss: 0.6918\n",
      "Epoch 5/100\n",
      "1/1 [==============================] - 0s 34ms/step - val_loss: 0.6914\n",
      "Epoch 6/100\n",
      "1/1 [==============================] - 0s 26ms/step - val_loss: 0.6908\n",
      "Epoch 7/100\n",
      "1/1 [==============================] - 0s 31ms/step - val_loss: 0.6900\n",
      "Epoch 8/100\n",
      "1/1 [==============================] - 0s 26ms/step - val_loss: 0.6890\n",
      "Epoch 9/100\n",
      "1/1 [==============================] - 0s 23ms/step - val_loss: 0.6876\n",
      "Epoch 10/100\n",
      "1/1 [==============================] - 0s 29ms/step - val_loss: 0.6860\n",
      "Epoch 11/100\n",
      "1/1 [==============================] - 0s 22ms/step - val_loss: 0.6839\n",
      "Epoch 12/100\n",
      "1/1 [==============================] - 0s 29ms/step - val_loss: 0.6815\n",
      "Epoch 13/100\n",
      "1/1 [==============================] - 0s 30ms/step - val_loss: 0.6786\n",
      "Epoch 14/100\n",
      "1/1 [==============================] - 0s 24ms/step - val_loss: 0.6752\n",
      "Epoch 15/100\n",
      "1/1 [==============================] - 0s 27ms/step - val_loss: 0.6714\n",
      "Epoch 16/100\n",
      "1/1 [==============================] - 0s 23ms/step - val_loss: 0.6673\n",
      "Epoch 17/100\n",
      "1/1 [==============================] - 0s 25ms/step - val_loss: 0.6630\n",
      "Epoch 18/100\n",
      "1/1 [==============================] - 0s 26ms/step - val_loss: 0.6585\n",
      "Epoch 19/100\n",
      "1/1 [==============================] - 0s 25ms/step - val_loss: 0.6543\n",
      "Epoch 20/100\n",
      "1/1 [==============================] - 0s 32ms/step - val_loss: 0.6504\n",
      "Epoch 21/100\n",
      "1/1 [==============================] - 0s 25ms/step - val_loss: 0.6471\n",
      "Epoch 22/100\n",
      "1/1 [==============================] - 0s 31ms/step - val_loss: 0.6446\n",
      "Epoch 23/100\n",
      "1/1 [==============================] - 0s 25ms/step - val_loss: 0.6431\n",
      "Epoch 24/100\n",
      "1/1 [==============================] - 0s 31ms/step - val_loss: 0.6425\n",
      "Epoch 25/100\n",
      "1/1 [==============================] - 0s 29ms/step - val_loss: 0.6428\n",
      "Epoch 26/100\n",
      "1/1 [==============================] - 0s 22ms/step - val_loss: 0.6438\n",
      "Epoch 27/100\n",
      "1/1 [==============================] - 0s 25ms/step - val_loss: 0.6453\n",
      "Epoch 28/100\n",
      "1/1 [==============================] - 0s 25ms/step - val_loss: 0.6469\n",
      "Epoch 29/100\n",
      "1/1 [==============================] - ETA: 0s\n",
      "Epoch 00029: ReduceLROnPlateau reducing learning rate to 0.004999999888241291.\n",
      "1/1 [==============================] - 0s 31ms/step - val_loss: 0.6484\n",
      "Epoch 30/100\n",
      "1/1 [==============================] - 0s 29ms/step - val_loss: 0.6490\n",
      "Epoch 31/100\n",
      "1/1 [==============================] - 0s 25ms/step - val_loss: 0.6493\n",
      "Epoch 32/100\n",
      "1/1 [==============================] - 0s 32ms/step - val_loss: 0.6495\n",
      "Epoch 33/100\n",
      "1/1 [==============================] - 0s 26ms/step - val_loss: 0.6494\n",
      "Epoch 34/100\n",
      "1/1 [==============================] - ETA: 0s\n",
      "Epoch 00034: ReduceLROnPlateau reducing learning rate to 0.0024999999441206455.\n",
      "1/1 [==============================] - 0s 32ms/step - val_loss: 0.6491\n",
      "Epoch 35/100\n",
      "1/1 [==============================] - 0s 27ms/step - val_loss: 0.6489\n",
      "Epoch 36/100\n",
      "1/1 [==============================] - 0s 23ms/step - val_loss: 0.6487\n",
      "Epoch 37/100\n",
      "1/1 [==============================] - 0s 27ms/step - val_loss: 0.6483\n",
      "Epoch 38/100\n",
      "1/1 [==============================] - 0s 22ms/step - val_loss: 0.6480\n",
      "Epoch 39/100\n",
      "1/1 [==============================] - ETA: 0s\n",
      "Epoch 00039: ReduceLROnPlateau reducing learning rate to 0.0012499999720603228.\n",
      "1/1 [==============================] - 0s 27ms/step - val_loss: 0.6476\n",
      "Epoch 40/100\n",
      "1/1 [==============================] - 0s 26ms/step - val_loss: 0.6474\n",
      "Epoch 41/100\n",
      "1/1 [==============================] - 0s 32ms/step - val_loss: 0.6471\n",
      "Epoch 42/100\n",
      "1/1 [==============================] - 0s 33ms/step - val_loss: 0.6469\n",
      "Epoch 43/100\n",
      "1/1 [==============================] - 0s 34ms/step - val_loss: 0.6467\n",
      "Epoch 44/100\n",
      "1/1 [==============================] - ETA: 0s\n",
      "Epoch 00044: ReduceLROnPlateau reducing learning rate to 0.0006249999860301614.\n",
      "1/1 [==============================] - 0s 36ms/step - val_loss: 0.6464\n",
      "Epoch 45/100\n",
      "1/1 [==============================] - 0s 36ms/step - val_loss: 0.6463\n",
      "Epoch 46/100\n",
      "1/1 [==============================] - 0s 34ms/step - val_loss: 0.6462\n",
      "Epoch 47/100\n",
      "1/1 [==============================] - 0s 33ms/step - val_loss: 0.6460\n",
      "Epoch 48/100\n",
      "1/1 [==============================] - 0s 34ms/step - val_loss: 0.6459\n",
      "Epoch 49/100\n",
      "1/1 [==============================] - ETA: 0s\n",
      "Epoch 00049: ReduceLROnPlateau reducing learning rate to 0.0003124999930150807.\n",
      "1/1 [==============================] - 0s 34ms/step - val_loss: 0.6458\n",
      "Epoch 50/100\n",
      "1/1 [==============================] - 0s 38ms/step - val_loss: 0.6457\n",
      "Epoch 51/100\n",
      "1/1 [==============================] - 0s 34ms/step - val_loss: 0.6457\n",
      "Epoch 52/100\n",
      "1/1 [==============================] - 0s 31ms/step - val_loss: 0.6456\n",
      "Epoch 53/100\n",
      "1/1 [==============================] - 0s 25ms/step - val_loss: 0.6455\n",
      "Epoch 54/100\n",
      "1/1 [==============================] - ETA: 0s\n",
      "Epoch 00054: ReduceLROnPlateau reducing learning rate to 0.00015624999650754035.\n",
      "1/1 [==============================] - 0s 26ms/step - val_loss: 0.6455\n",
      "Epoch 55/100\n",
      "1/1 [==============================] - 0s 26ms/step - val_loss: 0.6454\n",
      "Epoch 56/100\n",
      "1/1 [==============================] - 0s 26ms/step - val_loss: 0.6454\n",
      "Epoch 57/100\n",
      "1/1 [==============================] - 0s 29ms/step - val_loss: 0.6454\n",
      "Epoch 58/100\n",
      "1/1 [==============================] - 0s 26ms/step - val_loss: 0.6454\n",
      "Epoch 59/100\n",
      "1/1 [==============================] - ETA: 0s\n",
      "Epoch 00059: ReduceLROnPlateau reducing learning rate to 7.812499825377017e-05.\n",
      "1/1 [==============================] - 0s 25ms/step - val_loss: 0.6453\n",
      "Epoch 60/100\n",
      "1/1 [==============================] - 0s 25ms/step - val_loss: 0.6453\n",
      "Epoch 61/100\n",
      "1/1 [==============================] - 0s 21ms/step - val_loss: 0.6453\n",
      "Epoch 62/100\n",
      "1/1 [==============================] - 0s 28ms/step - val_loss: 0.6453\n",
      "Epoch 63/100\n",
      "1/1 [==============================] - 0s 20ms/step - val_loss: 0.6453\n",
      "Epoch 64/100\n",
      "1/1 [==============================] - ETA: 0s\n",
      "Epoch 00064: ReduceLROnPlateau reducing learning rate to 3.9062499126885086e-05.\n",
      "1/1 [==============================] - 0s 28ms/step - val_loss: 0.6452\n",
      "Epoch 65/100\n",
      "1/1 [==============================] - 0s 29ms/step - val_loss: 0.6452\n",
      "Epoch 66/100\n",
      "1/1 [==============================] - 0s 27ms/step - val_loss: 0.6452\n",
      "Epoch 67/100\n",
      "1/1 [==============================] - 0s 24ms/step - val_loss: 0.6452\n",
      "Epoch 68/100\n",
      "1/1 [==============================] - 0s 25ms/step - val_loss: 0.6452\n",
      "Epoch 69/100\n",
      "1/1 [==============================] - ETA: 0s\n",
      "Epoch 00069: ReduceLROnPlateau reducing learning rate to 1.9531249563442543e-05.\n",
      "1/1 [==============================] - 0s 28ms/step - val_loss: 0.6452\n",
      "Epoch 70/100\n",
      "1/1 [==============================] - 0s 28ms/step - val_loss: 0.6452\n",
      "Epoch 71/100\n",
      "1/1 [==============================] - 0s 31ms/step - val_loss: 0.6452\n",
      "Epoch 72/100\n",
      "1/1 [==============================] - 0s 30ms/step - val_loss: 0.6452\n",
      "Epoch 73/100\n",
      "1/1 [==============================] - 0s 31ms/step - val_loss: 0.6452\n",
      "Epoch 74/100\n",
      "1/1 [==============================] - ETA: 0s\n",
      "Epoch 00074: ReduceLROnPlateau reducing learning rate to 9.765624781721272e-06.\n",
      "1/1 [==============================] - 0s 31ms/step - val_loss: 0.6452\n",
      "Epoch 75/100\n",
      "1/1 [==============================] - 0s 32ms/step - val_loss: 0.6452\n",
      "Epoch 76/100\n",
      "1/1 [==============================] - 0s 33ms/step - val_loss: 0.6452\n",
      "Epoch 77/100\n",
      "1/1 [==============================] - 0s 29ms/step - val_loss: 0.6452\n",
      "Epoch 78/100\n",
      "1/1 [==============================] - 0s 28ms/step - val_loss: 0.6452\n",
      "Epoch 79/100\n",
      "1/1 [==============================] - ETA: 0s\n",
      "Epoch 00079: ReduceLROnPlateau reducing learning rate to 4.882812390860636e-06.\n",
      "1/1 [==============================] - 0s 32ms/step - val_loss: 0.6452\n",
      "Epoch 80/100\n",
      "1/1 [==============================] - 0s 32ms/step - val_loss: 0.6452\n",
      "Epoch 81/100\n",
      "1/1 [==============================] - 0s 31ms/step - val_loss: 0.6452\n"
     ]
    },
    {
     "name": "stdout",
     "output_type": "stream",
     "text": [
      "Epoch 82/100\n",
      "1/1 [==============================] - 0s 26ms/step - val_loss: 0.6452\n",
      "Epoch 83/100\n",
      "1/1 [==============================] - 0s 25ms/step - val_loss: 0.6452\n",
      "Epoch 84/100\n",
      "1/1 [==============================] - ETA: 0s\n",
      "Epoch 00084: ReduceLROnPlateau reducing learning rate to 2.441406195430318e-06.\n",
      "1/1 [==============================] - 0s 22ms/step - val_loss: 0.6452\n",
      "Epoch 85/100\n",
      "1/1 [==============================] - 0s 25ms/step - val_loss: 0.6452\n",
      "Epoch 86/100\n",
      "1/1 [==============================] - 0s 24ms/step - val_loss: 0.6452\n",
      "Epoch 87/100\n",
      "1/1 [==============================] - 0s 26ms/step - val_loss: 0.6452\n",
      "Epoch 88/100\n",
      "1/1 [==============================] - 0s 25ms/step - val_loss: 0.6452\n",
      "Epoch 89/100\n",
      "1/1 [==============================] - ETA: 0s\n",
      "Epoch 00089: ReduceLROnPlateau reducing learning rate to 1.220703097715159e-06.\n",
      "1/1 [==============================] - 0s 22ms/step - val_loss: 0.6452\n",
      "Epoch 90/100\n",
      "1/1 [==============================] - 0s 25ms/step - val_loss: 0.6452\n",
      "Epoch 91/100\n",
      "1/1 [==============================] - 0s 25ms/step - val_loss: 0.6452\n",
      "Epoch 92/100\n",
      "1/1 [==============================] - 0s 29ms/step - val_loss: 0.6452\n",
      "Epoch 93/100\n",
      "1/1 [==============================] - 0s 32ms/step - val_loss: 0.6452\n",
      "Epoch 94/100\n",
      "1/1 [==============================] - ETA: 0s\n",
      "Epoch 00094: ReduceLROnPlateau reducing learning rate to 6.103515488575795e-07.\n",
      "1/1 [==============================] - 0s 30ms/step - val_loss: 0.6452\n",
      "Epoch 95/100\n",
      "1/1 [==============================] - 0s 29ms/step - val_loss: 0.6452\n",
      "Epoch 96/100\n",
      "1/1 [==============================] - 0s 29ms/step - val_loss: 0.6452\n",
      "Epoch 97/100\n",
      "1/1 [==============================] - 0s 32ms/step - val_loss: 0.6452\n",
      "Epoch 98/100\n",
      "1/1 [==============================] - 0s 29ms/step - val_loss: 0.6452\n",
      "Epoch 99/100\n",
      "1/1 [==============================] - ETA: 0s\n",
      "Epoch 00099: ReduceLROnPlateau reducing learning rate to 3.0517577442878974e-07.\n",
      "1/1 [==============================] - 0s 30ms/step - val_loss: 0.6452\n",
      "Epoch 100/100\n",
      "1/1 [==============================] - 0s 29ms/step - val_loss: 0.6452\n"
     ]
    },
    {
     "data": {
      "text/plain": [
       "<tensorflow.python.keras.callbacks.History at 0x7f0ec0502390>"
      ]
     },
     "execution_count": 14,
     "metadata": {},
     "output_type": "execute_result"
    }
   ],
   "source": [
    "callbacks = [tf.keras.callbacks.ReduceLROnPlateau(factor=0.5, patience=5, verbose=1)]\n",
    "gnn.fit((X[np.newaxis,:,:], A_tilde[np.newaxis,:,:], train_mask[np.newaxis,:,:]), A[np.newaxis,:,:], epochs=100, validation_data=((X[np.newaxis,:,:], A_tilde[np.newaxis,:,:], valid_mask[np.newaxis,:,:]), A[np.newaxis,:,:]), callbacks=callbacks)"
   ]
  },
  {
   "cell_type": "code",
   "execution_count": 15,
   "metadata": {},
   "outputs": [],
   "source": [
    "z, A_pred = gnn((X, A_tilde))"
   ]
  },
  {
   "cell_type": "code",
   "execution_count": 16,
   "metadata": {},
   "outputs": [
    {
     "data": {
      "text/plain": [
       "<tf.Tensor: shape=(34, 34), dtype=float32, numpy=\n",
       "array([[0.8438018 , 0.7924925 , 0.63885754, ..., 0.28950018, 0.18531656,\n",
       "        0.18551764],\n",
       "       [0.7924925 , 0.7437489 , 0.6116044 , ..., 0.32863334, 0.23555595,\n",
       "        0.23573309],\n",
       "       [0.63885754, 0.6116044 , 0.54827976, ..., 0.424425  , 0.3771823 ,\n",
       "        0.3772723 ],\n",
       "       ...,\n",
       "       [0.28950018, 0.32863334, 0.424425  , ..., 0.6175449 , 0.68764263,\n",
       "        0.6875082 ],\n",
       "       [0.18531656, 0.23555595, 0.3771823 , ..., 0.68764263, 0.78593796,\n",
       "        0.7857522 ],\n",
       "       [0.18551764, 0.23573309, 0.3772723 , ..., 0.6875082 , 0.7857522 ,\n",
       "        0.7855673 ]], dtype=float32)>"
      ]
     },
     "execution_count": 16,
     "metadata": {},
     "output_type": "execute_result"
    }
   ],
   "source": [
    "tf.nn.sigmoid(A_pred)"
   ]
  },
  {
   "cell_type": "code",
   "execution_count": 20,
   "metadata": {},
   "outputs": [],
   "source": [
    "A_reco = (tf.nn.sigmoid(A_pred) > 0.5).numpy().astype(int)"
   ]
  },
  {
   "cell_type": "code",
   "execution_count": 21,
   "metadata": {},
   "outputs": [
    {
     "data": {
      "text/plain": [
       "array([[1, 1, 1, ..., 0, 0, 0],\n",
       "       [1, 1, 1, ..., 0, 0, 0],\n",
       "       [1, 1, 1, ..., 0, 0, 0],\n",
       "       ...,\n",
       "       [0, 0, 0, ..., 1, 1, 1],\n",
       "       [0, 0, 0, ..., 1, 1, 1],\n",
       "       [0, 0, 0, ..., 1, 1, 1]])"
      ]
     },
     "execution_count": 21,
     "metadata": {},
     "output_type": "execute_result"
    }
   ],
   "source": [
    "A_reco"
   ]
  },
  {
   "cell_type": "code",
   "execution_count": null,
   "metadata": {},
   "outputs": [],
   "source": []
  }
 ],
 "metadata": {
  "kernelspec": {
   "display_name": "Python 3",
   "language": "python",
   "name": "python3"
  },
  "language_info": {
   "codemirror_mode": {
    "name": "ipython",
    "version": 3
   },
   "file_extension": ".py",
   "mimetype": "text/x-python",
   "name": "python",
   "nbconvert_exporter": "python",
   "pygments_lexer": "ipython3",
   "version": "3.6.9"
  }
 },
 "nbformat": 4,
 "nbformat_minor": 2
}
