{
 "cells": [
  {
   "cell_type": "code",
   "execution_count": 1,
   "metadata": {},
   "outputs": [],
   "source": [
    "import tensorflow as tf\n",
    "import networkx as nx\n",
    "import numpy as np\n",
    "\n",
    "import data.input_samples as inpu\n",
    "import models.graph_nn as grap\n",
    "import util.plotting as plut\n",
    "import data.input_samples as inpu"
   ]
  },
  {
   "cell_type": "code",
   "execution_count": 2,
   "metadata": {},
   "outputs": [],
   "source": [
    "%load_ext autoreload"
   ]
  },
  {
   "cell_type": "code",
   "execution_count": 3,
   "metadata": {},
   "outputs": [],
   "source": [
    "%autoreload 2"
   ]
  },
  {
   "cell_type": "code",
   "execution_count": 4,
   "metadata": {},
   "outputs": [],
   "source": [
    "# data\n",
    "X, A_tilde, y, train_mask, valid_mask = inpu.make_karate_data_classifier()\n",
    "nodes_n = len(y)"
   ]
  },
  {
   "cell_type": "code",
   "execution_count": 6,
   "metadata": {},
   "outputs": [
    {
     "name": "stdout",
     "output_type": "stream",
     "text": [
      "Model: \"functional_1\"\n",
      "__________________________________________________________________________________________________\n",
      "Layer (type)                    Output Shape         Param #     Connected to                     \n",
      "==================================================================================================\n",
      "encoder_input_features (InputLa [(None, 34, 34)]     0                                            \n",
      "__________________________________________________________________________________________________\n",
      "encoder_input_adjacency (InputL [(None, 34, 34)]     0                                            \n",
      "__________________________________________________________________________________________________\n",
      "graph_convolution (GraphConvolu (None, 34, 4)        136         encoder_input_features[0][0]     \n",
      "                                                                 encoder_input_adjacency[0][0]    \n",
      "__________________________________________________________________________________________________\n",
      "graph_convolution_1 (GraphConvo (None, 34, 4)        16          graph_convolution[0][0]          \n",
      "                                                                 encoder_input_adjacency[0][0]    \n",
      "__________________________________________________________________________________________________\n",
      "graph_convolution_2 (GraphConvo (None, 34, 2)        8           graph_convolution_1[0][0]        \n",
      "                                                                 encoder_input_adjacency[0][0]    \n",
      "==================================================================================================\n",
      "Total params: 160\n",
      "Trainable params: 160\n",
      "Non-trainable params: 0\n",
      "__________________________________________________________________________________________________\n",
      "WARNING:tensorflow:Layer graph_autoencoder_karate is casting an input tensor from dtype float64 to the layer's dtype of float32, which is new behavior in TensorFlow 2.  The layer has dtype float32 because its dtype defaults to floatx.\n",
      "\n",
      "If you intended to run this layer in float32, you can safely ignore this warning. If in doubt, this warning is likely only an issue if you are porting a TensorFlow 1.X model to TensorFlow 2.\n",
      "\n",
      "To change all layers to have dtype float64 by default, call `tf.keras.backend.set_floatx('float64')`. To change just this layer, pass dtype='float64' to the layer constructor. If you are the author of this layer, you can disable autocasting by passing autocast=False to the base Layer constructor.\n",
      "\n"
     ]
    }
   ],
   "source": [
    "gnn = grap.GraphClassifierKarate(nodes_n=nodes_n, feat_sz=nodes_n, activation=tf.nn.tanh)\n",
    "z, probs = gnn((X, A_tilde))"
   ]
  },
  {
   "cell_type": "code",
   "execution_count": 8,
   "metadata": {},
   "outputs": [
    {
     "data": {
      "text/plain": [
       "TensorShape([34, 2])"
      ]
     },
     "execution_count": 8,
     "metadata": {},
     "output_type": "execute_result"
    }
   ],
   "source": [
    "z.shape"
   ]
  },
  {
   "cell_type": "code",
   "execution_count": 9,
   "metadata": {},
   "outputs": [
    {
     "data": {
      "image/png": "[encoded data removed]",
      "text/plain": [
       "<Figure size 432x288 with 1 Axes>"
      ]
     },
     "metadata": {
      "needs_background": "light"
     },
     "output_type": "display_data"
    }
   ],
   "source": [
    "plut.plot_clusters(z, y)"
   ]
  },
  {
   "cell_type": "markdown",
   "metadata": {},
   "source": [
    "## train network"
   ]
  },
  {
   "cell_type": "code",
   "execution_count": 13,
   "metadata": {},
   "outputs": [
    {
     "name": "stdout",
     "output_type": "stream",
     "text": [
      "Model: \"functional_5\"\n",
      "__________________________________________________________________________________________________\n",
      "Layer (type)                    Output Shape         Param #     Connected to                     \n",
      "==================================================================================================\n",
      "encoder_input_features (InputLa [(None, 34, 34)]     0                                            \n",
      "__________________________________________________________________________________________________\n",
      "encoder_input_adjacency (InputL [(None, 34, 34)]     0                                            \n",
      "__________________________________________________________________________________________________\n",
      "graph_convolution_6 (GraphConvo (None, 34, 4)        136         encoder_input_features[0][0]     \n",
      "                                                                 encoder_input_adjacency[0][0]    \n",
      "__________________________________________________________________________________________________\n",
      "graph_convolution_7 (GraphConvo (None, 34, 4)        16          graph_convolution_6[0][0]        \n",
      "                                                                 encoder_input_adjacency[0][0]    \n",
      "__________________________________________________________________________________________________\n",
      "graph_convolution_8 (GraphConvo (None, 34, 2)        8           graph_convolution_7[0][0]        \n",
      "                                                                 encoder_input_adjacency[0][0]    \n",
      "==================================================================================================\n",
      "Total params: 160\n",
      "Trainable params: 160\n",
      "Non-trainable params: 0\n",
      "__________________________________________________________________________________________________\n"
     ]
    }
   ],
   "source": [
    "gnn = grap.GraphAutoencoderKarate(nodes_n=nodes_n, feat_sz=nodes_n, activation=tf.nn.tanh)"
   ]
  },
  {
   "cell_type": "code",
   "execution_count": 14,
   "metadata": {},
   "outputs": [],
   "source": [
    "gnn.compile(optimizer=tf.keras.optimizers.Adam(learning_rate=0.01), run_eagerly=True)"
   ]
  },
  {
   "cell_type": "code",
   "execution_count": 15,
   "metadata": {},
   "outputs": [
    {
     "name": "stdout",
     "output_type": "stream",
     "text": [
      "Epoch 1/200\n",
      "1/1 [==============================] - 0s 160ms/step - val_loss: 0.7361\n",
      "Epoch 2/200\n",
      "1/1 [==============================] - 0s 25ms/step - val_loss: 0.7210\n",
      "Epoch 3/200\n",
      "1/1 [==============================] - 0s 23ms/step - val_loss: 0.7061\n",
      "Epoch 4/200\n",
      "1/1 [==============================] - 0s 28ms/step - val_loss: 0.6913\n",
      "Epoch 5/200\n",
      "1/1 [==============================] - 0s 23ms/step - val_loss: 0.6765\n",
      "Epoch 6/200\n",
      "1/1 [==============================] - 0s 27ms/step - val_loss: 0.6619\n",
      "Epoch 7/200\n",
      "1/1 [==============================] - 0s 33ms/step - val_loss: 0.6475\n",
      "Epoch 8/200\n",
      "1/1 [==============================] - 0s 23ms/step - val_loss: 0.6331\n",
      "Epoch 9/200\n",
      "1/1 [==============================] - 0s 30ms/step - val_loss: 0.6186\n",
      "Epoch 10/200\n",
      "1/1 [==============================] - 0s 22ms/step - val_loss: 0.6041\n",
      "Epoch 11/200\n",
      "1/1 [==============================] - 0s 31ms/step - val_loss: 0.5894\n",
      "Epoch 12/200\n",
      "1/1 [==============================] - 0s 26ms/step - val_loss: 0.5745\n",
      "Epoch 13/200\n",
      "1/1 [==============================] - 0s 32ms/step - val_loss: 0.5592\n",
      "Epoch 14/200\n",
      "1/1 [==============================] - 0s 26ms/step - val_loss: 0.5436\n",
      "Epoch 15/200\n",
      "1/1 [==============================] - 0s 25ms/step - val_loss: 0.5277\n",
      "Epoch 16/200\n",
      "1/1 [==============================] - 0s 30ms/step - val_loss: 0.5116\n",
      "Epoch 17/200\n",
      "1/1 [==============================] - 0s 37ms/step - val_loss: 0.4954\n",
      "Epoch 18/200\n",
      "1/1 [==============================] - 0s 24ms/step - val_loss: 0.4791\n",
      "Epoch 19/200\n",
      "1/1 [==============================] - 0s 30ms/step - val_loss: 0.4628\n",
      "Epoch 20/200\n",
      "1/1 [==============================] - 0s 26ms/step - val_loss: 0.4467\n",
      "Epoch 21/200\n",
      "1/1 [==============================] - 0s 22ms/step - val_loss: 0.4309\n",
      "Epoch 22/200\n",
      "1/1 [==============================] - 0s 27ms/step - val_loss: 0.4154\n",
      "Epoch 23/200\n",
      "1/1 [==============================] - 0s 30ms/step - val_loss: 0.4003\n",
      "Epoch 24/200\n",
      "1/1 [==============================] - 0s 26ms/step - val_loss: 0.3858\n",
      "Epoch 25/200\n",
      "1/1 [==============================] - 0s 31ms/step - val_loss: 0.3718\n",
      "Epoch 26/200\n",
      "1/1 [==============================] - 0s 31ms/step - val_loss: 0.3584\n",
      "Epoch 27/200\n",
      "1/1 [==============================] - 0s 35ms/step - val_loss: 0.3458\n",
      "Epoch 28/200\n",
      "1/1 [==============================] - 0s 32ms/step - val_loss: 0.3338\n",
      "Epoch 29/200\n",
      "1/1 [==============================] - 0s 36ms/step - val_loss: 0.3225\n",
      "Epoch 30/200\n",
      "1/1 [==============================] - 0s 36ms/step - val_loss: 0.3119\n",
      "Epoch 31/200\n",
      "1/1 [==============================] - 0s 31ms/step - val_loss: 0.3019\n",
      "Epoch 32/200\n",
      "1/1 [==============================] - 0s 37ms/step - val_loss: 0.2927\n",
      "Epoch 33/200\n",
      "1/1 [==============================] - 0s 34ms/step - val_loss: 0.2840\n",
      "Epoch 34/200\n",
      "1/1 [==============================] - 0s 28ms/step - val_loss: 0.2760\n",
      "Epoch 35/200\n",
      "1/1 [==============================] - 0s 23ms/step - val_loss: 0.2685\n",
      "Epoch 36/200\n",
      "1/1 [==============================] - 0s 32ms/step - val_loss: 0.2616\n",
      "Epoch 37/200\n",
      "1/1 [==============================] - 0s 28ms/step - val_loss: 0.2552\n",
      "Epoch 38/200\n",
      "1/1 [==============================] - 0s 32ms/step - val_loss: 0.2493\n",
      "Epoch 39/200\n",
      "1/1 [==============================] - 0s 29ms/step - val_loss: 0.2438\n",
      "Epoch 40/200\n",
      "1/1 [==============================] - 0s 30ms/step - val_loss: 0.2387\n",
      "Epoch 41/200\n",
      "1/1 [==============================] - 0s 31ms/step - val_loss: 0.2340\n",
      "Epoch 42/200\n",
      "1/1 [==============================] - 0s 28ms/step - val_loss: 0.2297\n",
      "Epoch 43/200\n",
      "1/1 [==============================] - 0s 30ms/step - val_loss: 0.2256\n",
      "Epoch 44/200\n",
      "1/1 [==============================] - 0s 39ms/step - val_loss: 0.2219\n",
      "Epoch 45/200\n",
      "1/1 [==============================] - 0s 27ms/step - val_loss: 0.2185\n",
      "Epoch 46/200\n",
      "1/1 [==============================] - 0s 33ms/step - val_loss: 0.2153\n",
      "Epoch 47/200\n",
      "1/1 [==============================] - 0s 32ms/step - val_loss: 0.2123\n",
      "Epoch 48/200\n",
      "1/1 [==============================] - 0s 26ms/step - val_loss: 0.2095\n",
      "Epoch 49/200\n",
      "1/1 [==============================] - 0s 28ms/step - val_loss: 0.2070\n",
      "Epoch 50/200\n",
      "1/1 [==============================] - 0s 32ms/step - val_loss: 0.2046\n",
      "Epoch 51/200\n",
      "1/1 [==============================] - 0s 24ms/step - val_loss: 0.2024\n",
      "Epoch 52/200\n",
      "1/1 [==============================] - 0s 23ms/step - val_loss: 0.2004\n",
      "Epoch 53/200\n",
      "1/1 [==============================] - 0s 29ms/step - val_loss: 0.1985\n",
      "Epoch 54/200\n",
      "1/1 [==============================] - 0s 26ms/step - val_loss: 0.1967\n",
      "Epoch 55/200\n",
      "1/1 [==============================] - 0s 30ms/step - val_loss: 0.1950\n",
      "Epoch 56/200\n",
      "1/1 [==============================] - 0s 27ms/step - val_loss: 0.1935\n",
      "Epoch 57/200\n",
      "1/1 [==============================] - 0s 22ms/step - val_loss: 0.1921\n",
      "Epoch 58/200\n",
      "1/1 [==============================] - 0s 26ms/step - val_loss: 0.1907\n",
      "Epoch 59/200\n",
      "1/1 [==============================] - 0s 22ms/step - val_loss: 0.1894\n",
      "Epoch 60/200\n",
      "1/1 [==============================] - 0s 25ms/step - val_loss: 0.1883\n",
      "Epoch 61/200\n",
      "1/1 [==============================] - 0s 26ms/step - val_loss: 0.1872\n",
      "Epoch 62/200\n",
      "1/1 [==============================] - 0s 23ms/step - val_loss: 0.1861\n",
      "Epoch 63/200\n",
      "1/1 [==============================] - 0s 27ms/step - val_loss: 0.1851\n",
      "Epoch 64/200\n",
      "1/1 [==============================] - 0s 22ms/step - val_loss: 0.1842\n",
      "Epoch 65/200\n",
      "1/1 [==============================] - 0s 29ms/step - val_loss: 0.1834\n",
      "Epoch 66/200\n",
      "1/1 [==============================] - 0s 30ms/step - val_loss: 0.1826\n",
      "Epoch 67/200\n",
      "1/1 [==============================] - 0s 29ms/step - val_loss: 0.1818\n",
      "Epoch 68/200\n",
      "1/1 [==============================] - 0s 26ms/step - val_loss: 0.1811\n",
      "Epoch 69/200\n",
      "1/1 [==============================] - 0s 33ms/step - val_loss: 0.1804\n",
      "Epoch 70/200\n",
      "1/1 [==============================] - 0s 23ms/step - val_loss: 0.1797\n",
      "Epoch 71/200\n",
      "1/1 [==============================] - 0s 25ms/step - val_loss: 0.1791\n",
      "Epoch 72/200\n",
      "1/1 [==============================] - 0s 29ms/step - val_loss: 0.1785\n",
      "Epoch 73/200\n",
      "1/1 [==============================] - 0s 23ms/step - val_loss: 0.1780\n",
      "Epoch 74/200\n",
      "1/1 [==============================] - 0s 27ms/step - val_loss: 0.1774\n",
      "Epoch 75/200\n",
      "1/1 [==============================] - 0s 29ms/step - val_loss: 0.1769\n",
      "Epoch 76/200\n",
      "1/1 [==============================] - 0s 28ms/step - val_loss: 0.1765\n",
      "Epoch 77/200\n",
      "1/1 [==============================] - 0s 31ms/step - val_loss: 0.1760\n",
      "Epoch 78/200\n",
      "1/1 [==============================] - 0s 30ms/step - val_loss: 0.1756\n",
      "Epoch 79/200\n",
      "1/1 [==============================] - 0s 28ms/step - val_loss: 0.1751\n",
      "Epoch 80/200\n",
      "1/1 [==============================] - 0s 24ms/step - val_loss: 0.1747\n",
      "Epoch 81/200\n",
      "1/1 [==============================] - 0s 26ms/step - val_loss: 0.1743\n",
      "Epoch 82/200\n",
      "1/1 [==============================] - 0s 28ms/step - val_loss: 0.1740\n",
      "Epoch 83/200\n",
      "1/1 [==============================] - 0s 23ms/step - val_loss: 0.1736\n",
      "Epoch 84/200\n",
      "1/1 [==============================] - 0s 30ms/step - val_loss: 0.1733\n",
      "Epoch 85/200\n",
      "1/1 [==============================] - 0s 29ms/step - val_loss: 0.1730\n",
      "Epoch 86/200\n",
      "1/1 [==============================] - 0s 29ms/step - val_loss: 0.1726\n",
      "Epoch 87/200\n",
      "1/1 [==============================] - 0s 33ms/step - val_loss: 0.1723\n",
      "Epoch 88/200\n",
      "1/1 [==============================] - 0s 32ms/step - val_loss: 0.1720\n",
      "Epoch 89/200\n",
      "1/1 [==============================] - 0s 28ms/step - val_loss: 0.1717\n",
      "Epoch 90/200\n",
      "1/1 [==============================] - 0s 29ms/step - val_loss: 0.1715\n",
      "Epoch 91/200\n",
      "1/1 [==============================] - 0s 30ms/step - val_loss: 0.1712\n",
      "Epoch 92/200\n",
      "1/1 [==============================] - 0s 27ms/step - val_loss: 0.1709\n",
      "Epoch 93/200\n",
      "1/1 [==============================] - 0s 24ms/step - val_loss: 0.1707\n",
      "Epoch 94/200\n",
      "1/1 [==============================] - 0s 26ms/step - val_loss: 0.1704\n",
      "Epoch 95/200\n",
      "1/1 [==============================] - 0s 26ms/step - val_loss: 0.1702\n",
      "Epoch 96/200\n",
      "1/1 [==============================] - 0s 30ms/step - val_loss: 0.1700\n",
      "Epoch 97/200\n",
      "1/1 [==============================] - 0s 30ms/step - val_loss: 0.1698\n",
      "Epoch 98/200\n"
     ]
    },
    {
     "name": "stdout",
     "output_type": "stream",
     "text": [
      "1/1 [==============================] - 0s 30ms/step - val_loss: 0.1695\n",
      "Epoch 99/200\n",
      "1/1 [==============================] - 0s 25ms/step - val_loss: 0.1693\n",
      "Epoch 100/200\n",
      "1/1 [==============================] - 0s 23ms/step - val_loss: 0.1691\n",
      "Epoch 101/200\n",
      "1/1 [==============================] - 0s 29ms/step - val_loss: 0.1689\n",
      "Epoch 102/200\n",
      "1/1 [==============================] - 0s 26ms/step - val_loss: 0.1687\n",
      "Epoch 103/200\n",
      "1/1 [==============================] - 0s 33ms/step - val_loss: 0.1685\n",
      "Epoch 104/200\n",
      "1/1 [==============================] - 0s 31ms/step - val_loss: 0.1683\n",
      "Epoch 105/200\n",
      "1/1 [==============================] - 0s 31ms/step - val_loss: 0.1682\n",
      "Epoch 106/200\n",
      "1/1 [==============================] - 0s 32ms/step - val_loss: 0.1680\n",
      "Epoch 107/200\n",
      "1/1 [==============================] - 0s 27ms/step - val_loss: 0.1678\n",
      "Epoch 108/200\n",
      "1/1 [==============================] - 0s 23ms/step - val_loss: 0.1676\n",
      "Epoch 109/200\n",
      "1/1 [==============================] - 0s 24ms/step - val_loss: 0.1675\n",
      "Epoch 110/200\n",
      "1/1 [==============================] - 0s 25ms/step - val_loss: 0.1673\n",
      "Epoch 111/200\n",
      "1/1 [==============================] - 0s 23ms/step - val_loss: 0.1671\n",
      "Epoch 112/200\n",
      "1/1 [==============================] - 0s 28ms/step - val_loss: 0.1670\n",
      "Epoch 113/200\n",
      "1/1 [==============================] - 0s 24ms/step - val_loss: 0.1668\n",
      "Epoch 114/200\n",
      "1/1 [==============================] - 0s 26ms/step - val_loss: 0.1667\n",
      "Epoch 115/200\n",
      "1/1 [==============================] - 0s 26ms/step - val_loss: 0.1665\n",
      "Epoch 116/200\n",
      "1/1 [==============================] - 0s 26ms/step - val_loss: 0.1664\n",
      "Epoch 117/200\n",
      "1/1 [==============================] - 0s 34ms/step - val_loss: 0.1662\n",
      "Epoch 118/200\n",
      "1/1 [==============================] - 0s 32ms/step - val_loss: 0.1661\n",
      "Epoch 119/200\n",
      "1/1 [==============================] - 0s 32ms/step - val_loss: 0.1659\n",
      "Epoch 120/200\n",
      "1/1 [==============================] - 0s 27ms/step - val_loss: 0.1658\n",
      "Epoch 121/200\n",
      "1/1 [==============================] - 0s 23ms/step - val_loss: 0.1657\n",
      "Epoch 122/200\n",
      "1/1 [==============================] - 0s 24ms/step - val_loss: 0.1655\n",
      "Epoch 123/200\n",
      "1/1 [==============================] - 0s 22ms/step - val_loss: 0.1654\n",
      "Epoch 124/200\n",
      "1/1 [==============================] - 0s 35ms/step - val_loss: 0.1653\n",
      "Epoch 125/200\n",
      "1/1 [==============================] - 0s 28ms/step - val_loss: 0.1652\n",
      "Epoch 126/200\n",
      "1/1 [==============================] - 0s 25ms/step - val_loss: 0.1650\n",
      "Epoch 127/200\n",
      "1/1 [==============================] - 0s 22ms/step - val_loss: 0.1649\n",
      "Epoch 128/200\n",
      "1/1 [==============================] - 0s 26ms/step - val_loss: 0.1648\n",
      "Epoch 129/200\n",
      "1/1 [==============================] - 0s 24ms/step - val_loss: 0.1647\n",
      "Epoch 130/200\n",
      "1/1 [==============================] - 0s 25ms/step - val_loss: 0.1645\n",
      "Epoch 131/200\n",
      "1/1 [==============================] - 0s 29ms/step - val_loss: 0.1644\n",
      "Epoch 132/200\n",
      "1/1 [==============================] - 0s 26ms/step - val_loss: 0.1643\n",
      "Epoch 133/200\n",
      "1/1 [==============================] - 0s 30ms/step - val_loss: 0.1642\n",
      "Epoch 134/200\n",
      "1/1 [==============================] - 0s 26ms/step - val_loss: 0.1641\n",
      "Epoch 135/200\n",
      "1/1 [==============================] - 0s 34ms/step - val_loss: 0.1640\n",
      "Epoch 136/200\n",
      "1/1 [==============================] - 0s 34ms/step - val_loss: 0.1639\n",
      "Epoch 137/200\n",
      "1/1 [==============================] - 0s 31ms/step - val_loss: 0.1638\n",
      "Epoch 138/200\n",
      "1/1 [==============================] - 0s 30ms/step - val_loss: 0.1637\n",
      "Epoch 139/200\n",
      "1/1 [==============================] - 0s 35ms/step - val_loss: 0.1636\n",
      "Epoch 140/200\n",
      "1/1 [==============================] - 0s 22ms/step - val_loss: 0.1635\n",
      "Epoch 141/200\n",
      "1/1 [==============================] - 0s 28ms/step - val_loss: 0.1634\n",
      "Epoch 142/200\n",
      "1/1 [==============================] - 0s 25ms/step - val_loss: 0.1633\n",
      "Epoch 143/200\n",
      "1/1 [==============================] - 0s 31ms/step - val_loss: 0.1632\n",
      "Epoch 144/200\n",
      "1/1 [==============================] - 0s 29ms/step - val_loss: 0.1631\n",
      "Epoch 145/200\n",
      "1/1 [==============================] - 0s 28ms/step - val_loss: 0.1630\n",
      "Epoch 146/200\n",
      "1/1 [==============================] - 0s 30ms/step - val_loss: 0.1629\n",
      "Epoch 147/200\n",
      "1/1 [==============================] - 0s 30ms/step - val_loss: 0.1628\n",
      "Epoch 148/200\n",
      "1/1 [==============================] - 0s 34ms/step - val_loss: 0.1627\n",
      "Epoch 149/200\n",
      "1/1 [==============================] - 0s 34ms/step - val_loss: 0.1626\n",
      "Epoch 150/200\n",
      "1/1 [==============================] - 0s 27ms/step - val_loss: 0.1625\n",
      "Epoch 151/200\n",
      "1/1 [==============================] - 0s 32ms/step - val_loss: 0.1624\n",
      "Epoch 152/200\n",
      "1/1 [==============================] - 0s 26ms/step - val_loss: 0.1623\n",
      "Epoch 153/200\n",
      "1/1 [==============================] - 0s 30ms/step - val_loss: 0.1622\n",
      "Epoch 154/200\n",
      "1/1 [==============================] - 0s 26ms/step - val_loss: 0.1622\n",
      "Epoch 155/200\n",
      "1/1 [==============================] - 0s 32ms/step - val_loss: 0.1621\n",
      "Epoch 156/200\n",
      "1/1 [==============================] - 0s 33ms/step - val_loss: 0.1620\n",
      "Epoch 157/200\n",
      "1/1 [==============================] - 0s 33ms/step - val_loss: 0.1619\n",
      "Epoch 158/200\n",
      "1/1 [==============================] - 0s 29ms/step - val_loss: 0.1618\n",
      "Epoch 159/200\n",
      "1/1 [==============================] - 0s 23ms/step - val_loss: 0.1617\n",
      "Epoch 160/200\n",
      "1/1 [==============================] - 0s 24ms/step - val_loss: 0.1617\n",
      "Epoch 161/200\n",
      "1/1 [==============================] - 0s 25ms/step - val_loss: 0.1616\n",
      "Epoch 162/200\n",
      "1/1 [==============================] - 0s 19ms/step - val_loss: 0.1615\n",
      "Epoch 163/200\n",
      "1/1 [==============================] - 0s 26ms/step - val_loss: 0.1614\n",
      "Epoch 164/200\n",
      "1/1 [==============================] - 0s 29ms/step - val_loss: 0.1613\n",
      "Epoch 165/200\n",
      "1/1 [==============================] - 0s 28ms/step - val_loss: 0.1613\n",
      "Epoch 166/200\n",
      "1/1 [==============================] - 0s 28ms/step - val_loss: 0.1612\n",
      "Epoch 167/200\n",
      "1/1 [==============================] - 0s 29ms/step - val_loss: 0.1611\n",
      "Epoch 168/200\n",
      "1/1 [==============================] - 0s 27ms/step - val_loss: 0.1610\n",
      "Epoch 169/200\n",
      "1/1 [==============================] - 0s 26ms/step - val_loss: 0.1610\n",
      "Epoch 170/200\n",
      "1/1 [==============================] - 0s 27ms/step - val_loss: 0.1609\n",
      "Epoch 171/200\n",
      "1/1 [==============================] - 0s 26ms/step - val_loss: 0.1608\n",
      "Epoch 172/200\n",
      "1/1 [==============================] - 0s 23ms/step - val_loss: 0.1608\n",
      "Epoch 173/200\n",
      "1/1 [==============================] - 0s 26ms/step - val_loss: 0.1607\n",
      "Epoch 174/200\n",
      "1/1 [==============================] - 0s 23ms/step - val_loss: 0.1606\n",
      "Epoch 175/200\n",
      "1/1 [==============================] - 0s 29ms/step - val_loss: 0.1605\n",
      "Epoch 176/200\n",
      "1/1 [==============================] - 0s 25ms/step - val_loss: 0.1605\n",
      "Epoch 177/200\n",
      "1/1 [==============================] - 0s 22ms/step - val_loss: 0.1604\n",
      "Epoch 178/200\n",
      "1/1 [==============================] - 0s 27ms/step - val_loss: 0.1603\n",
      "Epoch 179/200\n",
      "1/1 [==============================] - 0s 25ms/step - val_loss: 0.1603\n",
      "Epoch 180/200\n",
      "1/1 [==============================] - 0s 29ms/step - val_loss: 0.1602\n",
      "Epoch 181/200\n",
      "1/1 [==============================] - 0s 26ms/step - val_loss: 0.1601\n",
      "Epoch 182/200\n",
      "1/1 [==============================] - 0s 27ms/step - val_loss: 0.1601\n",
      "Epoch 183/200\n",
      "1/1 [==============================] - 0s 21ms/step - val_loss: 0.1600\n",
      "Epoch 184/200\n",
      "1/1 [==============================] - 0s 25ms/step - val_loss: 0.1599\n",
      "Epoch 185/200\n",
      "1/1 [==============================] - 0s 24ms/step - val_loss: 0.1599\n",
      "Epoch 186/200\n",
      "1/1 [==============================] - 0s 23ms/step - val_loss: 0.1598\n",
      "Epoch 187/200\n",
      "1/1 [==============================] - 0s 33ms/step - val_loss: 0.1598\n",
      "Epoch 188/200\n",
      "1/1 [==============================] - 0s 34ms/step - val_loss: 0.1597\n",
      "Epoch 189/200\n",
      "1/1 [==============================] - 0s 31ms/step - val_loss: 0.1596\n",
      "Epoch 190/200\n",
      "1/1 [==============================] - 0s 31ms/step - val_loss: 0.1596\n",
      "Epoch 191/200\n",
      "1/1 [==============================] - 0s 29ms/step - val_loss: 0.1595\n",
      "Epoch 192/200\n",
      "1/1 [==============================] - 0s 27ms/step - val_loss: 0.1595\n",
      "Epoch 193/200\n",
      "1/1 [==============================] - 0s 27ms/step - val_loss: 0.1594\n",
      "Epoch 194/200\n"
     ]
    },
    {
     "name": "stdout",
     "output_type": "stream",
     "text": [
      "1/1 [==============================] - 0s 22ms/step - val_loss: 0.1593\n",
      "Epoch 195/200\n",
      "1/1 [==============================] - 0s 26ms/step - val_loss: 0.1593\n",
      "Epoch 196/200\n",
      "1/1 [==============================] - 0s 23ms/step - val_loss: 0.1592\n",
      "Epoch 197/200\n",
      "1/1 [==============================] - 0s 22ms/step - val_loss: 0.1592\n",
      "Epoch 198/200\n",
      "1/1 [==============================] - 0s 24ms/step - val_loss: 0.1591\n",
      "Epoch 199/200\n",
      "1/1 [==============================] - 0s 32ms/step - val_loss: 0.1591\n",
      "Epoch 200/200\n",
      "1/1 [==============================] - 0s 35ms/step - val_loss: 0.1590\n"
     ]
    },
    {
     "data": {
      "text/plain": [
       "<tensorflow.python.keras.callbacks.History at 0x7ff5c82edb38>"
      ]
     },
     "execution_count": 15,
     "metadata": {},
     "output_type": "execute_result"
    }
   ],
   "source": [
    "callbacks = [tf.keras.callbacks.ReduceLROnPlateau(factor=0.5, patience=5, verbose=1)]\n",
    "gnn.fit((X[np.newaxis,:,:], A_tilde[np.newaxis,:,:], train_mask[np.newaxis,:]), y[np.newaxis,:], epochs=200, validation_data=((X[np.newaxis,:,:], A_tilde[np.newaxis,:,:], valid_mask[np.newaxis,:]), y[np.newaxis,:]), callbacks=callbacks)"
   ]
  },
  {
   "cell_type": "code",
   "execution_count": 16,
   "metadata": {},
   "outputs": [
    {
     "name": "stdout",
     "output_type": "stream",
     "text": [
      "WARNING:tensorflow:Layer graph_autoencoder_karate_2 is casting an input tensor from dtype float64 to the layer's dtype of float32, which is new behavior in TensorFlow 2.  The layer has dtype float32 because its dtype defaults to floatx.\n",
      "\n",
      "If you intended to run this layer in float32, you can safely ignore this warning. If in doubt, this warning is likely only an issue if you are porting a TensorFlow 1.X model to TensorFlow 2.\n",
      "\n",
      "To change all layers to have dtype float64 by default, call `tf.keras.backend.set_floatx('float64')`. To change just this layer, pass dtype='float64' to the layer constructor. If you are the author of this layer, you can disable autocasting by passing autocast=False to the base Layer constructor.\n",
      "\n"
     ]
    }
   ],
   "source": [
    "z, probs = gnn((X, A_tilde))"
   ]
  },
  {
   "cell_type": "code",
   "execution_count": 17,
   "metadata": {},
   "outputs": [
    {
     "data": {
      "image/png": "[encoded data removed]",
      "text/plain": [
       "<Figure size 432x288 with 1 Axes>"
      ]
     },
     "metadata": {
      "needs_background": "light"
     },
     "output_type": "display_data"
    }
   ],
   "source": [
    "plut.plot_clusters(z, y)"
   ]
  },
  {
   "cell_type": "code",
   "execution_count": 18,
   "metadata": {},
   "outputs": [
    {
     "data": {
      "text/plain": [
       "TensorShape([34, 2])"
      ]
     },
     "execution_count": 18,
     "metadata": {},
     "output_type": "execute_result"
    }
   ],
   "source": [
    "z.shape"
   ]
  },
  {
   "cell_type": "code",
   "execution_count": null,
   "metadata": {},
   "outputs": [],
   "source": []
  }
 ],
 "metadata": {
  "kernelspec": {
   "display_name": "Python 3",
   "language": "python",
   "name": "python3"
  },
  "language_info": {
   "codemirror_mode": {
    "name": "ipython",
    "version": 3
   },
   "file_extension": ".py",
   "mimetype": "text/x-python",
   "name": "python",
   "nbconvert_exporter": "python",
   "pygments_lexer": "ipython3",
   "version": "3.6.9"
  }
 },
 "nbformat": 4,
 "nbformat_minor": 2
}
