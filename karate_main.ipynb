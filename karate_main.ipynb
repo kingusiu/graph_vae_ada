{
 "cells": [
  {
   "cell_type": "code",
   "execution_count": 1,
   "metadata": {},
   "outputs": [],
   "source": [
    "import tensorflow as tf\n",
    "import networkx as nx\n",
    "import numpy as np\n",
    "\n",
    "import data.input_samples as inpu\n",
    "import models.graph_nn as grap"
   ]
  },
  {
   "cell_type": "code",
   "execution_count": 2,
   "metadata": {},
   "outputs": [],
   "source": [
    "# input sample\n",
    "\n",
    "club_dict = {'Mr. Hi' : 0, \n",
    "             'Officer': 1}\n",
    "\n",
    "G = nx.karate_club_graph()\n",
    "X = np.eye(G.number_of_nodes(), dtype=np.float32) # featureless graph\n",
    "A = nx.to_numpy_array(G)\n",
    "A_tilde = inpu.normalized_adjacency(A)\n",
    "club_labels = nx.get_node_attributes(G,'club')\n",
    "y = np.array([club_dict[label] for label in club_labels.values()])"
   ]
  },
  {
   "cell_type": "code",
   "execution_count": 3,
   "metadata": {},
   "outputs": [],
   "source": [
    "%load_ext autoreload"
   ]
  },
  {
   "cell_type": "code",
   "execution_count": 4,
   "metadata": {},
   "outputs": [],
   "source": [
    "%autoreload 2"
   ]
  },
  {
   "cell_type": "code",
   "execution_count": 6,
   "metadata": {},
   "outputs": [
    {
     "name": "stdout",
     "output_type": "stream",
     "text": [
      "Model: \"functional_3\"\n",
      "__________________________________________________________________________________________________\n",
      "Layer (type)                    Output Shape         Param #     Connected to                     \n",
      "==================================================================================================\n",
      "encoder_input_features (InputLa [(None, 34, 1)]      0                                            \n",
      "__________________________________________________________________________________________________\n",
      "encoder_input_adjacency (InputL [(None, 34, 34)]     0                                            \n",
      "__________________________________________________________________________________________________\n",
      "graph_convolution_3 (GraphConvo (None, 34, 4)        4           encoder_input_features[0][0]     \n",
      "                                                                 encoder_input_adjacency[0][0]    \n",
      "__________________________________________________________________________________________________\n",
      "graph_convolution_4 (GraphConvo (None, 34, 4)        16          graph_convolution_3[0][0]        \n",
      "                                                                 encoder_input_adjacency[0][0]    \n",
      "__________________________________________________________________________________________________\n",
      "graph_convolution_5 (GraphConvo (None, 34, 2)        8           graph_convolution_4[0][0]        \n",
      "                                                                 encoder_input_adjacency[0][0]    \n",
      "==================================================================================================\n",
      "Total params: 28\n",
      "Trainable params: 28\n",
      "Non-trainable params: 0\n",
      "__________________________________________________________________________________________________\n",
      "WARNING:tensorflow:Layer graph_autoencoder_karate_1 is casting an input tensor from dtype float64 to the layer's dtype of float32, which is new behavior in TensorFlow 2.  The layer has dtype float32 because its dtype defaults to floatx.\n",
      "\n",
      "If you intended to run this layer in float32, you can safely ignore this warning. If in doubt, this warning is likely only an issue if you are porting a TensorFlow 1.X model to TensorFlow 2.\n",
      "\n",
      "To change all layers to have dtype float64 by default, call `tf.keras.backend.set_floatx('float64')`. To change just this layer, pass dtype='float64' to the layer constructor. If you are the author of this layer, you can disable autocasting by passing autocast=False to the base Layer constructor.\n",
      "\n"
     ]
    }
   ],
   "source": [
    "# model \n",
    "gnn = grap.GraphAutoencoderKarate(nodes_n=G.number_of_nodes(), feat_sz=1, activation=tf.nn.tanh)\n",
    "z = gnn((X, A_tilde))"
   ]
  },
  {
   "cell_type": "code",
   "execution_count": 7,
   "metadata": {},
   "outputs": [
    {
     "data": {
      "text/plain": [
       "<tf.Tensor: shape=(34, 34, 2), dtype=float32, numpy=\n",
       "array([[[-0.01332693, -0.02863925],\n",
       "        [-0.00930063, -0.01998248],\n",
       "        [-0.0069034 , -0.01482895],\n",
       "        ...,\n",
       "        [-0.00377499, -0.00810353],\n",
       "        [-0.00179012, -0.00384999],\n",
       "        [-0.00266498, -0.00573172]],\n",
       "\n",
       "       [[-0.00929232, -0.01997436],\n",
       "        [-0.01068257, -0.02296043],\n",
       "        [-0.00723173, -0.01554098],\n",
       "        ...,\n",
       "        [-0.00204087, -0.00438819],\n",
       "        [-0.00202799, -0.0043625 ],\n",
       "        [-0.00307336, -0.00661092]],\n",
       "\n",
       "       [[-0.00689845, -0.01483055],\n",
       "        [-0.00723288, -0.01554759],\n",
       "        [-0.0082418 , -0.01771877],\n",
       "        ...,\n",
       "        [-0.00351682, -0.0075651 ],\n",
       "        [-0.00485745, -0.0104426 ],\n",
       "        [-0.00578895, -0.01245181]],\n",
       "\n",
       "       ...,\n",
       "\n",
       "       [[-0.00376881, -0.00810315],\n",
       "        [-0.00204137, -0.00439157],\n",
       "        [-0.00351516, -0.00756273],\n",
       "        ...,\n",
       "        [-0.00850988, -0.0182941 ],\n",
       "        [-0.00585673, -0.01259422],\n",
       "        [-0.00679534, -0.01461385]],\n",
       "\n",
       "       [[-0.0017899 , -0.00384971],\n",
       "        [-0.00202925, -0.00436461],\n",
       "        [-0.00486065, -0.01044133],\n",
       "        ...,\n",
       "        [-0.00586485, -0.01259129],\n",
       "        [-0.01120279, -0.0240747 ],\n",
       "        [-0.01117997, -0.02402827]],\n",
       "\n",
       "       [[-0.0026645 , -0.00573047],\n",
       "        [-0.00307493, -0.00661306],\n",
       "        [-0.00579332, -0.01245244],\n",
       "        ...,\n",
       "        [-0.00680867, -0.01461522],\n",
       "        [-0.01118611, -0.02403262],\n",
       "        [-0.01219179, -0.02619827]]], dtype=float32)>"
      ]
     },
     "execution_count": 7,
     "metadata": {},
     "output_type": "execute_result"
    }
   ],
   "source": [
    "z"
   ]
  },
  {
   "cell_type": "code",
   "execution_count": null,
   "metadata": {},
   "outputs": [],
   "source": []
  }
 ],
 "metadata": {
  "kernelspec": {
   "display_name": "Python 3",
   "language": "python",
   "name": "python3"
  },
  "language_info": {
   "codemirror_mode": {
    "name": "ipython",
    "version": 3
   },
   "file_extension": ".py",
   "mimetype": "text/x-python",
   "name": "python",
   "nbconvert_exporter": "python",
   "pygments_lexer": "ipython3",
   "version": "3.6.9"
  }
 },
 "nbformat": 4,
 "nbformat_minor": 2
}
