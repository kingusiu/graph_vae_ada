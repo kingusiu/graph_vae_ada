{
 "cells": [
  {
   "cell_type": "code",
   "execution_count": 1,
   "metadata": {},
   "outputs": [],
   "source": [
    "import tensorflow as tf\n",
    "import networkx as nx\n",
    "import numpy as np\n",
    "\n",
    "import data.input_samples as inpu\n",
    "import models.graph_nn as grap\n",
    "import util.plotting as plut"
   ]
  },
  {
   "cell_type": "code",
   "execution_count": 2,
   "metadata": {},
   "outputs": [],
   "source": [
    "# input sample\n",
    "\n",
    "club_dict = {'Mr. Hi' : 0, \n",
    "             'Officer': 1}\n",
    "\n",
    "G = nx.karate_club_graph()\n",
    "X = np.eye(G.number_of_nodes(), dtype=np.float32) # featureless graph\n",
    "A = nx.to_numpy_array(G)\n",
    "A_tilde = inpu.normalized_adjacency(A)\n",
    "club_labels = nx.get_node_attributes(G,'club')\n",
    "y = np.array([club_dict[label] for label in club_labels.values()])"
   ]
  },
  {
   "cell_type": "code",
   "execution_count": 3,
   "metadata": {},
   "outputs": [],
   "source": [
    "%load_ext autoreload"
   ]
  },
  {
   "cell_type": "code",
   "execution_count": 4,
   "metadata": {},
   "outputs": [],
   "source": [
    "%autoreload 2"
   ]
  },
  {
   "cell_type": "code",
   "execution_count": 5,
   "metadata": {},
   "outputs": [
    {
     "name": "stdout",
     "output_type": "stream",
     "text": [
      "Model: \"functional_1\"\n",
      "__________________________________________________________________________________________________\n",
      "Layer (type)                    Output Shape         Param #     Connected to                     \n",
      "==================================================================================================\n",
      "encoder_input_features (InputLa [(None, 34, 34)]     0                                            \n",
      "__________________________________________________________________________________________________\n",
      "encoder_input_adjacency (InputL [(None, 34, 34)]     0                                            \n",
      "__________________________________________________________________________________________________\n",
      "graph_convolution (GraphConvolu (None, 34, 4)        136         encoder_input_features[0][0]     \n",
      "                                                                 encoder_input_adjacency[0][0]    \n",
      "__________________________________________________________________________________________________\n",
      "graph_convolution_1 (GraphConvo (None, 34, 4)        16          graph_convolution[0][0]          \n",
      "                                                                 encoder_input_adjacency[0][0]    \n",
      "__________________________________________________________________________________________________\n",
      "graph_convolution_2 (GraphConvo (None, 34, 2)        8           graph_convolution_1[0][0]        \n",
      "                                                                 encoder_input_adjacency[0][0]    \n",
      "==================================================================================================\n",
      "Total params: 160\n",
      "Trainable params: 160\n",
      "Non-trainable params: 0\n",
      "__________________________________________________________________________________________________\n"
     ]
    }
   ],
   "source": [
    "# model \n",
    "gnn = grap.GraphAutoencoderKarate(nodes_n=G.number_of_nodes(), feat_sz=G.number_of_nodes(), activation=tf.nn.tanh)\n",
    "z = gnn.encoder((X, A_tilde))"
   ]
  },
  {
   "cell_type": "code",
   "execution_count": 6,
   "metadata": {},
   "outputs": [
    {
     "data": {
      "text/plain": [
       "<tf.Tensor: shape=(34, 2), dtype=float32, numpy=\n",
       "array([[-0.12434261,  0.16047457],\n",
       "       [-0.0558176 ,  0.15942731],\n",
       "       [-0.04103905,  0.1399769 ],\n",
       "       [-0.05337781,  0.12651588],\n",
       "       [-0.12745826,  0.07354503],\n",
       "       [-0.15602823,  0.08971115],\n",
       "       [-0.15301162,  0.0993403 ],\n",
       "       [-0.04177022,  0.11423071],\n",
       "       [-0.02497749,  0.09300618],\n",
       "       [-0.01222453,  0.06735329],\n",
       "       [-0.12849411,  0.06926917],\n",
       "       [-0.02292669, -0.00288611],\n",
       "       [-0.0479493 ,  0.06422028],\n",
       "       [-0.04290736,  0.11369717],\n",
       "       [-0.00733414,  0.0882359 ],\n",
       "       [-0.0176228 ,  0.05565526],\n",
       "       [-0.13853796,  0.08391979],\n",
       "       [-0.03231885,  0.09384978],\n",
       "       [-0.01122743,  0.03652246],\n",
       "       [-0.04400934,  0.08385676],\n",
       "       [-0.00744238,  0.04279735],\n",
       "       [-0.0405368 ,  0.08581184],\n",
       "       [-0.00103296,  0.05507021],\n",
       "       [-0.00539618,  0.07327684],\n",
       "       [ 0.00188698,  0.00746201],\n",
       "       [-0.00120074,  0.01271893],\n",
       "       [-0.01423608,  0.10133584],\n",
       "       [-0.00680911,  0.05436539],\n",
       "       [-0.01783781,  0.07816654],\n",
       "       [-0.01379668,  0.10708008],\n",
       "       [-0.01598084,  0.08922136],\n",
       "       [-0.01953389,  0.05735374],\n",
       "       [-0.02255027,  0.11562785],\n",
       "       [-0.035381  ,  0.14583845]], dtype=float32)>"
      ]
     },
     "execution_count": 6,
     "metadata": {},
     "output_type": "execute_result"
    }
   ],
   "source": [
    "z"
   ]
  },
  {
   "cell_type": "code",
   "execution_count": 7,
   "metadata": {},
   "outputs": [
    {
     "data": {
      "text/plain": [
       "TensorShape([34, 2])"
      ]
     },
     "execution_count": 7,
     "metadata": {},
     "output_type": "execute_result"
    }
   ],
   "source": [
    "z.shape"
   ]
  },
  {
   "cell_type": "code",
   "execution_count": 8,
   "metadata": {},
   "outputs": [
    {
     "data": {
      "image/png": "[encoded data removed]",
      "text/plain": [
       "<Figure size 432x288 with 1 Axes>"
      ]
     },
     "metadata": {
      "needs_background": "light"
     },
     "output_type": "display_data"
    }
   ],
   "source": [
    "plut.plot_clusters(z, y)"
   ]
  },
  {
   "cell_type": "code",
   "execution_count": null,
   "metadata": {},
   "outputs": [],
   "source": []
  }
 ],
 "metadata": {
  "kernelspec": {
   "display_name": "Python 3",
   "language": "python",
   "name": "python3"
  },
  "language_info": {
   "codemirror_mode": {
    "name": "ipython",
    "version": 3
   },
   "file_extension": ".py",
   "mimetype": "text/x-python",
   "name": "python",
   "nbconvert_exporter": "python",
   "pygments_lexer": "ipython3",
   "version": "3.6.9"
  }
 },
 "nbformat": 4,
 "nbformat_minor": 2
}
