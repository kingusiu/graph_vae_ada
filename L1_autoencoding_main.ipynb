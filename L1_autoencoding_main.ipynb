{
 "cells": [
  {
   "cell_type": "code",
   "execution_count": 1,
   "metadata": {},
   "outputs": [],
   "source": [
    "import tensorflow as tf\n",
    "import numpy as np\n",
    "import h5py\n",
    "import matplotlib.pyplot as plt\n",
    "\n",
    "import models.graph_nn as grap"
   ]
  },
  {
   "cell_type": "code",
   "execution_count": 2,
   "metadata": {},
   "outputs": [],
   "source": [
    "%load_ext autoreload\n",
    "%autoreload 2"
   ]
  },
  {
   "cell_type": "markdown",
   "metadata": {},
   "source": [
    "# data preprocessing"
   ]
  },
  {
   "cell_type": "code",
   "execution_count": 67,
   "metadata": {},
   "outputs": [],
   "source": [
    "def normalize_features(particles):\n",
    "    idx_pt, idx_eta, idx_phi, idx_class = range(4)\n",
    "    # min-max normalize pt\n",
    "    particles[:,:,idx_pt] = (particles[:,:,idx_pt] - np.min(particles[:,:,idx_pt])) / (np.max(particles[:,:,idx_pt])-np.min(particles[:,:,idx_pt]))\n",
    "    # standard normalize angles\n",
    "    particles[:,:,idx_eta] = (particles[:,:,idx_eta] - np.mean(particles[:,:,idx_eta]))/np.std(particles[:,:,idx_eta])\n",
    "    particles[:,:,idx_eta] = (particles[:,:,idx_eta] - np.mean(particles[:,:,idx_phi]))/np.std(particles[:,:,idx_phi])\n",
    "    # min-max normalize class label\n",
    "    particles[:,:,idx_class] = (particles[:,:,idx_class] - np.min(particles[:,:,idx_class])) / (np.max(particles[:,:,idx_class])-np.min(particles[:,:,idx_class]))\n",
    "    return particles"
   ]
  },
  {
   "cell_type": "code",
   "execution_count": 3,
   "metadata": {},
   "outputs": [],
   "source": [
    "def normalized_adjacency(A):\n",
    "    D = np.array(np.sum(A, axis=2), dtype=np.float32) # compute outdegree (= rowsum)\n",
    "    D = np.nan_to_num(np.power(D,-0.5), posinf=0, neginf=0) # normalize (**-(1/2))\n",
    "    D = np.asarray([np.diagflat(dd) for dd in D]) # and diagonalize\n",
    "    return np.matmul(D, np.matmul(A, D))"
   ]
  },
  {
   "cell_type": "code",
   "execution_count": 80,
   "metadata": {},
   "outputs": [],
   "source": [
    "def make_adjacencies(particles):\n",
    "    real_p_mask = particles[:,:,0] > 0\n",
    "    adjacencies = (real_p_mask[:,:,np.newaxis] * real_p_mask[:,np.newaxis,:]).astype('int')\n",
    "    return adjacencies"
   ]
  },
  {
   "cell_type": "markdown",
   "metadata": {},
   "source": [
    "# load data"
   ]
  },
  {
   "cell_type": "code",
   "execution_count": 5,
   "metadata": {},
   "outputs": [],
   "source": [
    "filename = '/home/kinga/dev/datasamples/L1_anomaly_challenge/background_training_1M.h5'\n",
    "ff = h5py.File(filename, 'r')\n",
    "particles = np.asarray(ff.get('Particles'))"
   ]
  },
  {
   "cell_type": "code",
   "execution_count": 6,
   "metadata": {},
   "outputs": [
    {
     "data": {
      "text/plain": [
       "(1000000, 19, 4)"
      ]
     },
     "execution_count": 6,
     "metadata": {},
     "output_type": "execute_result"
    }
   ],
   "source": [
    "particles.shape"
   ]
  },
  {
   "cell_type": "code",
   "execution_count": 7,
   "metadata": {},
   "outputs": [],
   "source": [
    "nodes_n = particles.shape[1]\n",
    "feat_sz = particles.shape[2]"
   ]
  },
  {
   "cell_type": "code",
   "execution_count": 63,
   "metadata": {},
   "outputs": [],
   "source": [
    "# features: array([b'Pt', b'Eta', b'Phi', b'Class'], dtype='|S5')\n",
    "particles_train = particles[:3000]"
   ]
  },
  {
   "cell_type": "code",
   "execution_count": 64,
   "metadata": {},
   "outputs": [
    {
     "name": "stderr",
     "output_type": "stream",
     "text": [
      "/home/kinga/.local/lib/python3.6/site-packages/ipykernel_launcher.py:4: RuntimeWarning: divide by zero encountered in power\n",
      "  after removing the cwd from sys.path.\n"
     ]
    }
   ],
   "source": [
    "A = make_adjacencies(particles_train)\n",
    "A_tilde = normalized_adjacency(A)"
   ]
  },
  {
   "cell_type": "code",
   "execution_count": 65,
   "metadata": {},
   "outputs": [
    {
     "data": {
      "image/png": "[encoded data removed]",
      "text/plain": [
       "<Figure size 432x288 with 1 Axes>"
      ]
     },
     "metadata": {
      "needs_background": "light"
     },
     "output_type": "display_data"
    }
   ],
   "source": [
    "plt.hist(particles_train[:,:,0].flatten())\n",
    "plt.yscale('log')"
   ]
  },
  {
   "cell_type": "code",
   "execution_count": 68,
   "metadata": {},
   "outputs": [],
   "source": [
    "particles_train = normalize_features(particles_train)"
   ]
  },
  {
   "cell_type": "code",
   "execution_count": 71,
   "metadata": {},
   "outputs": [
    {
     "data": {
      "text/plain": [
       "Text(0.5, 1.0, 'normalized pt')"
      ]
     },
     "execution_count": 71,
     "metadata": {},
     "output_type": "execute_result"
    },
    {
     "data": {
      "image/png": "[encoded data removed]",
      "text/plain": [
       "<Figure size 432x288 with 1 Axes>"
      ]
     },
     "metadata": {
      "needs_background": "light"
     },
     "output_type": "display_data"
    }
   ],
   "source": [
    "plt.hist(particles_train[:,:,0].flatten())\n",
    "plt.yscale('log')\n",
    "plt.title('normalized pt')"
   ]
  },
  {
   "cell_type": "markdown",
   "metadata": {},
   "source": [
    "# build model: Autoencoder"
   ]
  },
  {
   "cell_type": "code",
   "execution_count": 72,
   "metadata": {},
   "outputs": [
    {
     "name": "stdout",
     "output_type": "stream",
     "text": [
      "Model: \"functional_3\"\n",
      "__________________________________________________________________________________________________\n",
      "Layer (type)                    Output Shape         Param #     Connected to                     \n",
      "==================================================================================================\n",
      "encoder_input_features (InputLa [(None, 19, 4)]      0                                            \n",
      "__________________________________________________________________________________________________\n",
      "encoder_input_adjacency (InputL [(None, 19, 19)]     0                                            \n",
      "__________________________________________________________________________________________________\n",
      "graph_convolution_3 (GraphConvo (None, 19, 3)        12          encoder_input_features[0][0]     \n",
      "                                                                 encoder_input_adjacency[0][0]    \n",
      "__________________________________________________________________________________________________\n",
      "graph_convolution_4 (GraphConvo (None, 19, 2)        6           graph_convolution_3[0][0]        \n",
      "                                                                 encoder_input_adjacency[0][0]    \n",
      "__________________________________________________________________________________________________\n",
      "graph_convolution_5 (GraphConvo (None, 19, 1)        2           graph_convolution_4[0][0]        \n",
      "                                                                 encoder_input_adjacency[0][0]    \n",
      "==================================================================================================\n",
      "Total params: 20\n",
      "Trainable params: 20\n",
      "Non-trainable params: 0\n",
      "__________________________________________________________________________________________________\n"
     ]
    }
   ],
   "source": [
    "gnn = grap.GraphAutoencoder(nodes_n=nodes_n, feat_sz=feat_sz, activation=tf.nn.tanh)\n",
    "gnn.compile(optimizer=tf.keras.optimizers.Adam(learning_rate=0.01), run_eagerly=True)"
   ]
  },
  {
   "cell_type": "markdown",
   "metadata": {},
   "source": [
    "# train model"
   ]
  },
  {
   "cell_type": "code",
   "execution_count": 73,
   "metadata": {},
   "outputs": [
    {
     "name": "stdout",
     "output_type": "stream",
     "text": [
      "Epoch 1/100\n",
      "18/18 [==============================] - 0s 23ms/step - val_loss: 0.6810\n",
      "Epoch 2/100\n",
      "18/18 [==============================] - 0s 18ms/step - val_loss: 0.6797\n",
      "Epoch 3/100\n",
      "18/18 [==============================] - 0s 17ms/step - val_loss: 0.6794\n",
      "Epoch 4/100\n",
      "18/18 [==============================] - 0s 17ms/step - val_loss: 0.6793\n",
      "Epoch 5/100\n",
      "18/18 [==============================] - 0s 17ms/step - val_loss: 0.6792\n",
      "Epoch 6/100\n",
      "18/18 [==============================] - 0s 17ms/step - val_loss: 0.6792\n",
      "Epoch 7/100\n",
      "18/18 [==============================] - 0s 17ms/step - val_loss: 0.6792\n",
      "Epoch 8/100\n",
      "18/18 [==============================] - 0s 16ms/step - val_loss: 0.6791\n",
      "Epoch 9/100\n",
      "18/18 [==============================] - 0s 21ms/step - val_loss: 0.6791\n",
      "Epoch 10/100\n",
      "18/18 [==============================] - 0s 20ms/step - val_loss: 0.6791\n",
      "Epoch 11/100\n",
      "18/18 [==============================] - 0s 22ms/step - val_loss: 0.6790\n",
      "Epoch 12/100\n",
      "18/18 [==============================] - 0s 16ms/step - val_loss: 0.6790\n",
      "Epoch 13/100\n",
      "18/18 [==============================] - 0s 16ms/step - val_loss: 0.6790\n",
      "Epoch 14/100\n",
      "16/18 [=========================>....] - ETA: 0s\n",
      "Epoch 00014: ReduceLROnPlateau reducing learning rate to 0.004999999888241291.\n",
      "18/18 [==============================] - 0s 17ms/step - val_loss: 0.6790\n",
      "Epoch 15/100\n",
      "18/18 [==============================] - 0s 21ms/step - val_loss: 0.6790\n",
      "Epoch 16/100\n",
      "18/18 [==============================] - 0s 18ms/step - val_loss: 0.6790\n",
      "Epoch 17/100\n",
      "18/18 [==============================] - 0s 16ms/step - val_loss: 0.6790\n",
      "Epoch 18/100\n",
      "18/18 [==============================] - 0s 16ms/step - val_loss: 0.6790\n",
      "Epoch 19/100\n",
      "18/18 [==============================] - 0s 25ms/step - val_loss: 0.6790\n",
      "Epoch 20/100\n",
      "18/18 [==============================] - 0s 17ms/step - val_loss: 0.6790\n",
      "Epoch 21/100\n",
      "18/18 [==============================] - 0s 16ms/step - val_loss: 0.6790\n",
      "Epoch 22/100\n",
      "18/18 [==============================] - 0s 18ms/step - val_loss: 0.6790\n",
      "Epoch 23/100\n",
      "18/18 [==============================] - 0s 18ms/step - val_loss: 0.6790\n",
      "Epoch 24/100\n",
      "15/18 [========================>.....] - ETA: 0s\n",
      "Epoch 00024: ReduceLROnPlateau reducing learning rate to 0.0024999999441206455.\n",
      "18/18 [==============================] - 0s 17ms/step - val_loss: 0.6790\n",
      "Epoch 25/100\n",
      "18/18 [==============================] - 0s 17ms/step - val_loss: 0.6790\n",
      "Epoch 26/100\n",
      "18/18 [==============================] - 0s 17ms/step - val_loss: 0.6790\n",
      "Epoch 27/100\n",
      "18/18 [==============================] - 0s 24ms/step - val_loss: 0.6789\n",
      "Epoch 28/100\n",
      "18/18 [==============================] - 0s 16ms/step - val_loss: 0.6790\n",
      "Epoch 29/100\n",
      "17/18 [===========================>..] - ETA: 0s\n",
      "Epoch 00029: ReduceLROnPlateau reducing learning rate to 0.0012499999720603228.\n",
      "18/18 [==============================] - 0s 16ms/step - val_loss: 0.6790\n",
      "Epoch 30/100\n",
      "18/18 [==============================] - 0s 17ms/step - val_loss: 0.6790\n",
      "Epoch 31/100\n",
      "18/18 [==============================] - 0s 21ms/step - val_loss: 0.6790\n",
      "Epoch 32/100\n",
      "18/18 [==============================] - 1s 43ms/step - val_loss: 0.6790\n",
      "Epoch 33/100\n",
      "18/18 [==============================] - 0s 17ms/step - val_loss: 0.6789\n",
      "Epoch 34/100\n",
      "15/18 [========================>.....] - ETA: 0s\n",
      "Epoch 00034: ReduceLROnPlateau reducing learning rate to 0.0006249999860301614.\n",
      "18/18 [==============================] - 0s 20ms/step - val_loss: 0.6789\n",
      "Epoch 35/100\n",
      "18/18 [==============================] - 0s 17ms/step - val_loss: 0.6789\n",
      "Epoch 36/100\n",
      "18/18 [==============================] - 0s 17ms/step - val_loss: 0.6789\n",
      "Epoch 37/100\n",
      "18/18 [==============================] - 0s 25ms/step - val_loss: 0.6789\n",
      "Epoch 38/100\n",
      "18/18 [==============================] - 0s 16ms/step - val_loss: 0.6789\n",
      "Epoch 39/100\n",
      "17/18 [===========================>..] - ETA: 0s\n",
      "Epoch 00039: ReduceLROnPlateau reducing learning rate to 0.0003124999930150807.\n",
      "18/18 [==============================] - 0s 17ms/step - val_loss: 0.6789\n",
      "Epoch 40/100\n",
      "18/18 [==============================] - 0s 21ms/step - val_loss: 0.6789\n",
      "Epoch 41/100\n",
      "18/18 [==============================] - 0s 17ms/step - val_loss: 0.6789\n",
      "Epoch 42/100\n",
      "18/18 [==============================] - 0s 17ms/step - val_loss: 0.6789\n",
      "Epoch 43/100\n",
      "18/18 [==============================] - 0s 19ms/step - val_loss: 0.6789\n",
      "Epoch 44/100\n",
      "18/18 [==============================] - ETA: 0s\n",
      "Epoch 00044: ReduceLROnPlateau reducing learning rate to 0.00015624999650754035.\n",
      "18/18 [==============================] - 0s 21ms/step - val_loss: 0.6789\n",
      "Epoch 45/100\n",
      "18/18 [==============================] - 0s 17ms/step - val_loss: 0.6789\n",
      "Epoch 46/100\n",
      "18/18 [==============================] - 0s 17ms/step - val_loss: 0.6789\n",
      "Epoch 47/100\n",
      "18/18 [==============================] - 0s 17ms/step - val_loss: 0.6789\n",
      "Epoch 48/100\n",
      "18/18 [==============================] - 0s 17ms/step - val_loss: 0.6789\n",
      "Epoch 49/100\n",
      "17/18 [===========================>..] - ETA: 0s\n",
      "Epoch 00049: ReduceLROnPlateau reducing learning rate to 7.812499825377017e-05.\n",
      "18/18 [==============================] - 0s 17ms/step - val_loss: 0.6789\n",
      "Epoch 50/100\n",
      "18/18 [==============================] - 0s 23ms/step - val_loss: 0.6789\n",
      "Epoch 51/100\n",
      "18/18 [==============================] - 0s 22ms/step - val_loss: 0.6789\n",
      "Epoch 52/100\n",
      "18/18 [==============================] - 0s 21ms/step - val_loss: 0.6789\n",
      "Epoch 53/100\n",
      "18/18 [==============================] - 0s 24ms/step - val_loss: 0.6789\n",
      "Epoch 54/100\n",
      "15/18 [========================>.....] - ETA: 0s\n",
      "Epoch 00054: ReduceLROnPlateau reducing learning rate to 3.9062499126885086e-05.\n",
      "18/18 [==============================] - 0s 22ms/step - val_loss: 0.6789\n",
      "Epoch 55/100\n",
      "18/18 [==============================] - 0s 22ms/step - val_loss: 0.6789\n",
      "Epoch 56/100\n",
      "18/18 [==============================] - 0s 23ms/step - val_loss: 0.6789\n",
      "Epoch 57/100\n",
      "18/18 [==============================] - 0s 21ms/step - val_loss: 0.6789\n",
      "Epoch 58/100\n",
      "18/18 [==============================] - 0s 18ms/step - val_loss: 0.6789\n",
      "Epoch 59/100\n",
      "16/18 [=========================>....] - ETA: 0s\n",
      "Epoch 00059: ReduceLROnPlateau reducing learning rate to 1.9531249563442543e-05.\n",
      "18/18 [==============================] - 0s 23ms/step - val_loss: 0.6789\n",
      "Epoch 60/100\n",
      "18/18 [==============================] - 0s 17ms/step - val_loss: 0.6789\n",
      "Epoch 61/100\n",
      "18/18 [==============================] - 0s 17ms/step - val_loss: 0.6789\n",
      "Epoch 62/100\n",
      "18/18 [==============================] - 0s 17ms/step - val_loss: 0.6789\n",
      "Epoch 63/100\n",
      "18/18 [==============================] - 0s 21ms/step - val_loss: 0.6789\n",
      "Epoch 64/100\n",
      "17/18 [===========================>..] - ETA: 0s\n",
      "Epoch 00064: ReduceLROnPlateau reducing learning rate to 9.765624781721272e-06.\n",
      "18/18 [==============================] - 0s 22ms/step - val_loss: 0.6789\n",
      "Epoch 65/100\n",
      "18/18 [==============================] - 0s 19ms/step - val_loss: 0.6789\n",
      "Epoch 66/100\n",
      "18/18 [==============================] - 0s 19ms/step - val_loss: 0.6789\n",
      "Epoch 67/100\n",
      "18/18 [==============================] - 0s 20ms/step - val_loss: 0.6789\n",
      "Epoch 68/100\n",
      "18/18 [==============================] - 0s 18ms/step - val_loss: 0.6789\n",
      "Epoch 69/100\n",
      "16/18 [=========================>....] - ETA: 0s\n",
      "Epoch 00069: ReduceLROnPlateau reducing learning rate to 4.882812390860636e-06.\n",
      "18/18 [==============================] - 0s 17ms/step - val_loss: 0.6789\n",
      "Epoch 70/100\n",
      "18/18 [==============================] - 0s 17ms/step - val_loss: 0.6789\n",
      "Epoch 71/100\n",
      "18/18 [==============================] - 0s 17ms/step - val_loss: 0.6789\n",
      "Epoch 72/100\n",
      "18/18 [==============================] - 0s 23ms/step - val_loss: 0.6789\n",
      "Epoch 73/100\n",
      "18/18 [==============================] - 0s 21ms/step - val_loss: 0.6789\n",
      "Epoch 74/100\n",
      "17/18 [===========================>..] - ETA: 0s\n",
      "Epoch 00074: ReduceLROnPlateau reducing learning rate to 2.441406195430318e-06.\n",
      "18/18 [==============================] - 0s 21ms/step - val_loss: 0.6789\n",
      "Epoch 75/100\n",
      "18/18 [==============================] - 0s 17ms/step - val_loss: 0.6789\n",
      "Epoch 76/100\n",
      "18/18 [==============================] - 0s 16ms/step - val_loss: 0.6789\n",
      "Epoch 77/100\n",
      "18/18 [==============================] - 0s 22ms/step - val_loss: 0.6789\n",
      "Epoch 78/100\n"
     ]
    },
    {
     "name": "stdout",
     "output_type": "stream",
     "text": [
      "18/18 [==============================] - 0s 21ms/step - val_loss: 0.6789\n",
      "Epoch 79/100\n",
      "16/18 [=========================>....] - ETA: 0s\n",
      "Epoch 00079: ReduceLROnPlateau reducing learning rate to 1.220703097715159e-06.\n",
      "18/18 [==============================] - 0s 20ms/step - val_loss: 0.6789\n",
      "Epoch 80/100\n",
      "18/18 [==============================] - 0s 17ms/step - val_loss: 0.6789\n",
      "Epoch 81/100\n",
      "18/18 [==============================] - 0s 22ms/step - val_loss: 0.6789\n",
      "Epoch 82/100\n",
      "18/18 [==============================] - 0s 24ms/step - val_loss: 0.6789\n",
      "Epoch 83/100\n",
      "18/18 [==============================] - 0s 23ms/step - val_loss: 0.6789\n",
      "Epoch 84/100\n",
      "15/18 [========================>.....] - ETA: 0s\n",
      "Epoch 00084: ReduceLROnPlateau reducing learning rate to 6.103515488575795e-07.\n",
      "18/18 [==============================] - 0s 21ms/step - val_loss: 0.6789\n",
      "Epoch 85/100\n",
      "18/18 [==============================] - 0s 21ms/step - val_loss: 0.6789\n",
      "Epoch 86/100\n",
      "18/18 [==============================] - 0s 18ms/step - val_loss: 0.6789\n",
      "Epoch 87/100\n",
      "18/18 [==============================] - 0s 22ms/step - val_loss: 0.6789\n",
      "Epoch 88/100\n",
      "18/18 [==============================] - 0s 21ms/step - val_loss: 0.6789\n",
      "Epoch 89/100\n",
      "16/18 [=========================>....] - ETA: 0s\n",
      "Epoch 00089: ReduceLROnPlateau reducing learning rate to 3.0517577442878974e-07.\n",
      "18/18 [==============================] - 0s 21ms/step - val_loss: 0.6789\n",
      "Epoch 90/100\n",
      "18/18 [==============================] - 0s 22ms/step - val_loss: 0.6789\n",
      "Epoch 91/100\n",
      "18/18 [==============================] - 0s 21ms/step - val_loss: 0.6789\n",
      "Epoch 92/100\n",
      "18/18 [==============================] - 0s 21ms/step - val_loss: 0.6789\n",
      "Epoch 93/100\n",
      "18/18 [==============================] - 0s 17ms/step - val_loss: 0.6789\n",
      "Epoch 94/100\n",
      "18/18 [==============================] - ETA: 0s\n",
      "Epoch 00094: ReduceLROnPlateau reducing learning rate to 1.5258788721439487e-07.\n",
      "18/18 [==============================] - 0s 21ms/step - val_loss: 0.6789\n",
      "Epoch 95/100\n",
      "18/18 [==============================] - 0s 22ms/step - val_loss: 0.6789\n",
      "Epoch 96/100\n",
      "18/18 [==============================] - 0s 21ms/step - val_loss: 0.6789\n",
      "Epoch 97/100\n",
      "18/18 [==============================] - 0s 17ms/step - val_loss: 0.6789\n",
      "Epoch 98/100\n",
      "18/18 [==============================] - 0s 18ms/step - val_loss: 0.6789\n",
      "Epoch 99/100\n",
      "17/18 [===========================>..] - ETA: 0s\n",
      "Epoch 00099: ReduceLROnPlateau reducing learning rate to 7.629394360719743e-08.\n",
      "18/18 [==============================] - 0s 20ms/step - val_loss: 0.6789\n",
      "Epoch 100/100\n",
      "18/18 [==============================] - 0s 22ms/step - val_loss: 0.6789\n"
     ]
    },
    {
     "data": {
      "text/plain": [
       "<tensorflow.python.keras.callbacks.History at 0x7f0bf83befd0>"
      ]
     },
     "execution_count": 73,
     "metadata": {},
     "output_type": "execute_result"
    }
   ],
   "source": [
    "callbacks = [tf.keras.callbacks.ReduceLROnPlateau(factor=0.5, patience=5, verbose=1)]\n",
    "gnn.fit((particles_train, A_tilde), A, epochs=100, batch_size=128, validation_split=0.25, callbacks=callbacks)"
   ]
  },
  {
   "cell_type": "markdown",
   "metadata": {},
   "source": [
    "# predict background"
   ]
  },
  {
   "cell_type": "code",
   "execution_count": 88,
   "metadata": {},
   "outputs": [
    {
     "name": "stderr",
     "output_type": "stream",
     "text": [
      "/home/kinga/.local/lib/python3.6/site-packages/ipykernel_launcher.py:4: RuntimeWarning: divide by zero encountered in power\n",
      "  after removing the cwd from sys.path.\n"
     ]
    }
   ],
   "source": [
    "particles_test = particles[2000:3000]\n",
    "A_test = make_adjacencies(particles_test)\n",
    "A_tilde_test = normalized_adjacency(A_test)"
   ]
  },
  {
   "cell_type": "code",
   "execution_count": 82,
   "metadata": {},
   "outputs": [
    {
     "name": "stdout",
     "output_type": "stream",
     "text": [
      "WARNING:tensorflow:Layer graph_autoencoder_1 is casting an input tensor from dtype float64 to the layer's dtype of float32, which is new behavior in TensorFlow 2.  The layer has dtype float32 because its dtype defaults to floatx.\n",
      "\n",
      "If you intended to run this layer in float32, you can safely ignore this warning. If in doubt, this warning is likely only an issue if you are porting a TensorFlow 1.X model to TensorFlow 2.\n",
      "\n",
      "To change all layers to have dtype float64 by default, call `tf.keras.backend.set_floatx('float64')`. To change just this layer, pass dtype='float64' to the layer constructor. If you are the author of this layer, you can disable autocasting by passing autocast=False to the base Layer constructor.\n",
      "\n"
     ]
    }
   ],
   "source": [
    "z, A_pred_probs = gnn((particles_test, A_tilde_test))"
   ]
  },
  {
   "cell_type": "code",
   "execution_count": 83,
   "metadata": {},
   "outputs": [],
   "source": [
    "A_pred = (A_pred_probs > 0.5).numpy().astype('int') "
   ]
  },
  {
   "cell_type": "code",
   "execution_count": 86,
   "metadata": {},
   "outputs": [],
   "source": [
    "loss_background = gnn.test_step(((particles_test, A_tilde_test), A_test))"
   ]
  },
  {
   "cell_type": "code",
   "execution_count": 87,
   "metadata": {},
   "outputs": [
    {
     "data": {
      "text/plain": [
       "{'loss': <tf.Tensor: shape=(), dtype=float32, numpy=0.68007964>}"
      ]
     },
     "execution_count": 87,
     "metadata": {},
     "output_type": "execute_result"
    }
   ],
   "source": [
    "loss_background"
   ]
  },
  {
   "cell_type": "markdown",
   "metadata": {},
   "source": [
    "# load and predict signal"
   ]
  },
  {
   "cell_type": "code",
   "execution_count": 90,
   "metadata": {},
   "outputs": [],
   "source": [
    "filename = '/home/kinga/dev/datasamples/L1_anomaly_challenge/hToTauTau_13TeV_PU20.h5'\n",
    "ff = h5py.File(filename, 'r')\n",
    "particles_signal = np.asarray(ff.get('Particles'))"
   ]
  },
  {
   "cell_type": "code",
   "execution_count": 91,
   "metadata": {},
   "outputs": [
    {
     "data": {
      "text/plain": [
       "(691283, 19, 4)"
      ]
     },
     "execution_count": 91,
     "metadata": {},
     "output_type": "execute_result"
    }
   ],
   "source": [
    "particles_signal.shape"
   ]
  },
  {
   "cell_type": "code",
   "execution_count": 92,
   "metadata": {},
   "outputs": [],
   "source": [
    "# features: array([b'Pt', b'Eta', b'Phi', b'Class'], dtype='|S5')\n",
    "particles_signal_test = particles_signal[:3000]"
   ]
  },
  {
   "cell_type": "code",
   "execution_count": 93,
   "metadata": {},
   "outputs": [
    {
     "name": "stderr",
     "output_type": "stream",
     "text": [
      "/home/kinga/.local/lib/python3.6/site-packages/ipykernel_launcher.py:4: RuntimeWarning: divide by zero encountered in power\n",
      "  after removing the cwd from sys.path.\n"
     ]
    }
   ],
   "source": [
    "A_signal = make_adjacencies(particles_signal_test)\n",
    "A_tilde_signal = normalized_adjacency(A_signal)"
   ]
  },
  {
   "cell_type": "code",
   "execution_count": 94,
   "metadata": {},
   "outputs": [
    {
     "data": {
      "image/png": "[encoded data removed]",
      "text/plain": [
       "<Figure size 432x288 with 1 Axes>"
      ]
     },
     "metadata": {
      "needs_background": "light"
     },
     "output_type": "display_data"
    }
   ],
   "source": [
    "plt.hist(particles_signal_test[:,:,0].flatten())\n",
    "plt.yscale('log')"
   ]
  },
  {
   "cell_type": "code",
   "execution_count": 95,
   "metadata": {},
   "outputs": [],
   "source": [
    "particles_signal_test = normalize_features(particles_signal_test)"
   ]
  },
  {
   "cell_type": "code",
   "execution_count": 96,
   "metadata": {},
   "outputs": [
    {
     "data": {
      "text/plain": [
       "Text(0.5, 1.0, 'normalized pt')"
      ]
     },
     "execution_count": 96,
     "metadata": {},
     "output_type": "execute_result"
    },
    {
     "data": {
      "image/png": "[encoded data removed]",
      "text/plain": [
       "<Figure size 432x288 with 1 Axes>"
      ]
     },
     "metadata": {
      "needs_background": "light"
     },
     "output_type": "display_data"
    }
   ],
   "source": [
    "plt.hist(particles_signal_test[:,:,0].flatten())\n",
    "plt.yscale('log')\n",
    "plt.title('normalized pt')"
   ]
  },
  {
   "cell_type": "code",
   "execution_count": 98,
   "metadata": {},
   "outputs": [],
   "source": [
    "z_signal, A_pred_probs_signal = gnn((particles_signal_test, A_tilde_signal))"
   ]
  },
  {
   "cell_type": "code",
   "execution_count": 99,
   "metadata": {},
   "outputs": [],
   "source": [
    "A_pred_signal = (A_pred_probs_signal > 0.5).numpy().astype('int') "
   ]
  },
  {
   "cell_type": "code",
   "execution_count": 100,
   "metadata": {},
   "outputs": [],
   "source": [
    "loss_signal = gnn.test_step(((particles_signal_test, A_tilde_signal), A_signal))"
   ]
  },
  {
   "cell_type": "code",
   "execution_count": 101,
   "metadata": {},
   "outputs": [
    {
     "data": {
      "text/plain": [
       "{'loss': <tf.Tensor: shape=(), dtype=float32, numpy=0.64076227>}"
      ]
     },
     "execution_count": 101,
     "metadata": {},
     "output_type": "execute_result"
    }
   ],
   "source": [
    "loss_signal"
   ]
  },
  {
   "cell_type": "code",
   "execution_count": null,
   "metadata": {},
   "outputs": [],
   "source": []
  }
 ],
 "metadata": {
  "kernelspec": {
   "display_name": "Python 3",
   "language": "python",
   "name": "python3"
  },
  "language_info": {
   "codemirror_mode": {
    "name": "ipython",
    "version": 3
   },
   "file_extension": ".py",
   "mimetype": "text/x-python",
   "name": "python",
   "nbconvert_exporter": "python",
   "pygments_lexer": "ipython3",
   "version": "3.6.9"
  }
 },
 "nbformat": 4,
 "nbformat_minor": 2
}
